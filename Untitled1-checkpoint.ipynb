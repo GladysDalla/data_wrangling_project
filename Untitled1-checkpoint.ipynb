{
 "cells": [
  {
   "cell_type": "markdown",
   "id": "f4a8a96d",
   "metadata": {},
   "source": [
    "# 1. Data Gathering"
   ]
  },
  {
   "cell_type": "code",
   "execution_count": 1,
   "id": "b4ec43c1",
   "metadata": {
    "scrolled": true
   },
   "outputs": [],
   "source": [
    "from bs4 import BeautifulSoup\n",
    "import pandas as pd\n",
    "import numpy as np\n",
    "import matplotlib.pyplot as plt\n",
    "import seaborn as sns\n",
    "import os\n",
    "import re\n",
    "import requests\n",
    "import tweepy as tw\n",
    "import json\n",
    "%matplotlib inline"
   ]
  },
  {
   "cell_type": "code",
   "execution_count": 2,
   "id": "85f8be80",
   "metadata": {},
   "outputs": [
    {
     "data": {
      "text/html": [
       "<div>\n",
       "<style scoped>\n",
       "    .dataframe tbody tr th:only-of-type {\n",
       "        vertical-align: middle;\n",
       "    }\n",
       "\n",
       "    .dataframe tbody tr th {\n",
       "        vertical-align: top;\n",
       "    }\n",
       "\n",
       "    .dataframe thead th {\n",
       "        text-align: right;\n",
       "    }\n",
       "</style>\n",
       "<table border=\"1\" class=\"dataframe\">\n",
       "  <thead>\n",
       "    <tr style=\"text-align: right;\">\n",
       "      <th></th>\n",
       "      <th>tweet_id</th>\n",
       "      <th>in_reply_to_status_id</th>\n",
       "      <th>in_reply_to_user_id</th>\n",
       "      <th>timestamp</th>\n",
       "      <th>source</th>\n",
       "      <th>text</th>\n",
       "      <th>retweeted_status_id</th>\n",
       "      <th>retweeted_status_user_id</th>\n",
       "      <th>retweeted_status_timestamp</th>\n",
       "      <th>expanded_urls</th>\n",
       "      <th>rating_numerator</th>\n",
       "      <th>rating_denominator</th>\n",
       "      <th>name</th>\n",
       "      <th>doggo</th>\n",
       "      <th>floofer</th>\n",
       "      <th>pupper</th>\n",
       "      <th>puppo</th>\n",
       "    </tr>\n",
       "  </thead>\n",
       "  <tbody>\n",
       "    <tr>\n",
       "      <th>0</th>\n",
       "      <td>892420643555336193</td>\n",
       "      <td>NaN</td>\n",
       "      <td>NaN</td>\n",
       "      <td>2017-08-01 16:23:56 +0000</td>\n",
       "      <td>&lt;a href=\"http://twitter.com/download/iphone\" r...</td>\n",
       "      <td>This is Phineas. He's a mystical boy. Only eve...</td>\n",
       "      <td>NaN</td>\n",
       "      <td>NaN</td>\n",
       "      <td>NaN</td>\n",
       "      <td>https://twitter.com/dog_rates/status/892420643...</td>\n",
       "      <td>13</td>\n",
       "      <td>10</td>\n",
       "      <td>Phineas</td>\n",
       "      <td>None</td>\n",
       "      <td>None</td>\n",
       "      <td>None</td>\n",
       "      <td>None</td>\n",
       "    </tr>\n",
       "    <tr>\n",
       "      <th>1</th>\n",
       "      <td>892177421306343426</td>\n",
       "      <td>NaN</td>\n",
       "      <td>NaN</td>\n",
       "      <td>2017-08-01 00:17:27 +0000</td>\n",
       "      <td>&lt;a href=\"http://twitter.com/download/iphone\" r...</td>\n",
       "      <td>This is Tilly. She's just checking pup on you....</td>\n",
       "      <td>NaN</td>\n",
       "      <td>NaN</td>\n",
       "      <td>NaN</td>\n",
       "      <td>https://twitter.com/dog_rates/status/892177421...</td>\n",
       "      <td>13</td>\n",
       "      <td>10</td>\n",
       "      <td>Tilly</td>\n",
       "      <td>None</td>\n",
       "      <td>None</td>\n",
       "      <td>None</td>\n",
       "      <td>None</td>\n",
       "    </tr>\n",
       "  </tbody>\n",
       "</table>\n",
       "</div>"
      ],
      "text/plain": [
       "             tweet_id  in_reply_to_status_id  in_reply_to_user_id  \\\n",
       "0  892420643555336193                    NaN                  NaN   \n",
       "1  892177421306343426                    NaN                  NaN   \n",
       "\n",
       "                   timestamp  \\\n",
       "0  2017-08-01 16:23:56 +0000   \n",
       "1  2017-08-01 00:17:27 +0000   \n",
       "\n",
       "                                              source  \\\n",
       "0  <a href=\"http://twitter.com/download/iphone\" r...   \n",
       "1  <a href=\"http://twitter.com/download/iphone\" r...   \n",
       "\n",
       "                                                text  retweeted_status_id  \\\n",
       "0  This is Phineas. He's a mystical boy. Only eve...                  NaN   \n",
       "1  This is Tilly. She's just checking pup on you....                  NaN   \n",
       "\n",
       "   retweeted_status_user_id retweeted_status_timestamp  \\\n",
       "0                       NaN                        NaN   \n",
       "1                       NaN                        NaN   \n",
       "\n",
       "                                       expanded_urls  rating_numerator  \\\n",
       "0  https://twitter.com/dog_rates/status/892420643...                13   \n",
       "1  https://twitter.com/dog_rates/status/892177421...                13   \n",
       "\n",
       "   rating_denominator     name doggo floofer pupper puppo  \n",
       "0                  10  Phineas  None    None   None  None  \n",
       "1                  10    Tilly  None    None   None  None  "
      ]
     },
     "execution_count": 2,
     "metadata": {},
     "output_type": "execute_result"
    }
   ],
   "source": [
    "# contents of the archive file\n",
    "archive = pd.read_csv('twitter-archive-enhanced.csv')\n",
    "archive.head(2)"
   ]
  },
  {
   "cell_type": "code",
   "execution_count": 3,
   "id": "1d42e104",
   "metadata": {},
   "outputs": [
    {
     "data": {
      "text/html": [
       "<div>\n",
       "<style scoped>\n",
       "    .dataframe tbody tr th:only-of-type {\n",
       "        vertical-align: middle;\n",
       "    }\n",
       "\n",
       "    .dataframe tbody tr th {\n",
       "        vertical-align: top;\n",
       "    }\n",
       "\n",
       "    .dataframe thead th {\n",
       "        text-align: right;\n",
       "    }\n",
       "</style>\n",
       "<table border=\"1\" class=\"dataframe\">\n",
       "  <thead>\n",
       "    <tr style=\"text-align: right;\">\n",
       "      <th></th>\n",
       "      <th>tweet_id</th>\n",
       "      <th>jpg_url</th>\n",
       "      <th>img_num</th>\n",
       "      <th>p1</th>\n",
       "      <th>p1_conf</th>\n",
       "      <th>p1_dog</th>\n",
       "      <th>p2</th>\n",
       "      <th>p2_conf</th>\n",
       "      <th>p2_dog</th>\n",
       "      <th>p3</th>\n",
       "      <th>p3_conf</th>\n",
       "      <th>p3_dog</th>\n",
       "    </tr>\n",
       "  </thead>\n",
       "  <tbody>\n",
       "    <tr>\n",
       "      <th>0</th>\n",
       "      <td>666020888022790149</td>\n",
       "      <td>https://pbs.twimg.com/media/CT4udn0WwAA0aMy.jpg</td>\n",
       "      <td>1</td>\n",
       "      <td>Welsh_springer_spaniel</td>\n",
       "      <td>0.465074</td>\n",
       "      <td>True</td>\n",
       "      <td>collie</td>\n",
       "      <td>0.156665</td>\n",
       "      <td>True</td>\n",
       "      <td>Shetland_sheepdog</td>\n",
       "      <td>0.061428</td>\n",
       "      <td>True</td>\n",
       "    </tr>\n",
       "    <tr>\n",
       "      <th>1</th>\n",
       "      <td>666029285002620928</td>\n",
       "      <td>https://pbs.twimg.com/media/CT42GRgUYAA5iDo.jpg</td>\n",
       "      <td>1</td>\n",
       "      <td>redbone</td>\n",
       "      <td>0.506826</td>\n",
       "      <td>True</td>\n",
       "      <td>miniature_pinscher</td>\n",
       "      <td>0.074192</td>\n",
       "      <td>True</td>\n",
       "      <td>Rhodesian_ridgeback</td>\n",
       "      <td>0.072010</td>\n",
       "      <td>True</td>\n",
       "    </tr>\n",
       "    <tr>\n",
       "      <th>2</th>\n",
       "      <td>666033412701032449</td>\n",
       "      <td>https://pbs.twimg.com/media/CT4521TWwAEvMyu.jpg</td>\n",
       "      <td>1</td>\n",
       "      <td>German_shepherd</td>\n",
       "      <td>0.596461</td>\n",
       "      <td>True</td>\n",
       "      <td>malinois</td>\n",
       "      <td>0.138584</td>\n",
       "      <td>True</td>\n",
       "      <td>bloodhound</td>\n",
       "      <td>0.116197</td>\n",
       "      <td>True</td>\n",
       "    </tr>\n",
       "    <tr>\n",
       "      <th>3</th>\n",
       "      <td>666044226329800704</td>\n",
       "      <td>https://pbs.twimg.com/media/CT5Dr8HUEAA-lEu.jpg</td>\n",
       "      <td>1</td>\n",
       "      <td>Rhodesian_ridgeback</td>\n",
       "      <td>0.408143</td>\n",
       "      <td>True</td>\n",
       "      <td>redbone</td>\n",
       "      <td>0.360687</td>\n",
       "      <td>True</td>\n",
       "      <td>miniature_pinscher</td>\n",
       "      <td>0.222752</td>\n",
       "      <td>True</td>\n",
       "    </tr>\n",
       "    <tr>\n",
       "      <th>4</th>\n",
       "      <td>666049248165822465</td>\n",
       "      <td>https://pbs.twimg.com/media/CT5IQmsXIAAKY4A.jpg</td>\n",
       "      <td>1</td>\n",
       "      <td>miniature_pinscher</td>\n",
       "      <td>0.560311</td>\n",
       "      <td>True</td>\n",
       "      <td>Rottweiler</td>\n",
       "      <td>0.243682</td>\n",
       "      <td>True</td>\n",
       "      <td>Doberman</td>\n",
       "      <td>0.154629</td>\n",
       "      <td>True</td>\n",
       "    </tr>\n",
       "  </tbody>\n",
       "</table>\n",
       "</div>"
      ],
      "text/plain": [
       "             tweet_id                                          jpg_url  \\\n",
       "0  666020888022790149  https://pbs.twimg.com/media/CT4udn0WwAA0aMy.jpg   \n",
       "1  666029285002620928  https://pbs.twimg.com/media/CT42GRgUYAA5iDo.jpg   \n",
       "2  666033412701032449  https://pbs.twimg.com/media/CT4521TWwAEvMyu.jpg   \n",
       "3  666044226329800704  https://pbs.twimg.com/media/CT5Dr8HUEAA-lEu.jpg   \n",
       "4  666049248165822465  https://pbs.twimg.com/media/CT5IQmsXIAAKY4A.jpg   \n",
       "\n",
       "   img_num                      p1   p1_conf  p1_dog                  p2  \\\n",
       "0        1  Welsh_springer_spaniel  0.465074    True              collie   \n",
       "1        1                 redbone  0.506826    True  miniature_pinscher   \n",
       "2        1         German_shepherd  0.596461    True            malinois   \n",
       "3        1     Rhodesian_ridgeback  0.408143    True             redbone   \n",
       "4        1      miniature_pinscher  0.560311    True          Rottweiler   \n",
       "\n",
       "    p2_conf  p2_dog                   p3   p3_conf  p3_dog  \n",
       "0  0.156665    True    Shetland_sheepdog  0.061428    True  \n",
       "1  0.074192    True  Rhodesian_ridgeback  0.072010    True  \n",
       "2  0.138584    True           bloodhound  0.116197    True  \n",
       "3  0.360687    True   miniature_pinscher  0.222752    True  \n",
       "4  0.243682    True             Doberman  0.154629    True  "
      ]
     },
     "execution_count": 3,
     "metadata": {},
     "output_type": "execute_result"
    }
   ],
   "source": [
    "# URL of the tsv file downloaded and put in the same directory folder in use\n",
    "\n",
    "url = 'https://d17h27t6h515a5.cloudfront.net/topher/2017/August/599fd2ad_image-predictions/image-predictions.tsv'\n",
    "resp = requests.get(url, stream = True)\n",
    "with open('image_predictions.tsv','wb') as f:  # Saving received content as a tsv file in binary format\n",
    "     \n",
    "    # write the contents of the response (resp.content)\n",
    "    # to a new file in binary mode.\n",
    "    f.write(resp.content)\n",
    "\n",
    "images = pd.read_csv('image_predictions.tsv', sep='\\t')\n",
    "images.head()"
   ]
  },
  {
   "cell_type": "code",
   "execution_count": 4,
   "id": "20629e8d",
   "metadata": {},
   "outputs": [],
   "source": [
    "# https://www.earthdatascience.org/courses/use-data-open-source-python/intro-to-apis/twitter-data-in-python/"
   ]
  },
  {
   "cell_type": "code",
   "execution_count": 5,
   "id": "89d9409a",
   "metadata": {},
   "outputs": [],
   "source": [
    "consumer_key= ' DELETED' # API Key\n",
    "consumer_secret= 'DELETED' #API Secret\n",
    "access_token= 'DELETED'# Access Token\n",
    "access_token_secret= 'DELETED' #Access Token Secret\n",
    "\n",
    "auth = tw.OAuthHandler(consumer_key, consumer_secret)\n",
    "auth.set_access_token(access_token, access_token_secret)\n",
    "api = tw.API(auth, \n",
    "             parser = tw.parsers.JSONParser(),\n",
    "             wait_on_rate_limit=True)"
   ]
  },
  {
   "cell_type": "code",
   "execution_count": 6,
   "id": "36a87364",
   "metadata": {},
   "outputs": [
    {
     "name": "stderr",
     "output_type": "stream",
     "text": [
      "Rate limit reached. Sleeping for: 186\n",
      "Rate limit reached. Sleeping for: 142\n"
     ]
    }
   ],
   "source": [
    "# Fetch tweets from the twitter API using the following loop:\n",
    "list_of_tweets = []\n",
    "# Tweets that can't be found are saved in the list below:\n",
    "cant_find_tweets_for_those_ids = []\n",
    "\n",
    "for tweet_id in archive['tweet_id']:   \n",
    "    try:\n",
    "        list_of_tweets.append(api.get_status(tweet_id))\n",
    "    except Exception as e:\n",
    "        cant_find_tweets_for_those_ids.append(tweet_id)"
   ]
  },
  {
   "cell_type": "code",
   "execution_count": 7,
   "id": "c4bdc052",
   "metadata": {
    "scrolled": true
   },
   "outputs": [
    {
     "name": "stdout",
     "output_type": "stream",
     "text": [
      "The number of tweets found 2325\n",
      "The number of tweets not found 31\n"
     ]
    }
   ],
   "source": [
    "print(\"The number of tweets found\" ,len(list_of_tweets)) # should be 2325\n",
    "print(\"The number of tweets not found\" , len(cant_find_tweets_for_those_ids))"
   ]
  },
  {
   "cell_type": "code",
   "execution_count": 8,
   "id": "04aaa40a",
   "metadata": {},
   "outputs": [],
   "source": [
    "#Then in this code block we isolate the json part of each tweepy \n",
    "#status object that we have downloaded and we add them all into a list\n",
    "\n",
    "my_list_of_dicts = []\n",
    "for each_json_tweet in list_of_tweets:\n",
    "    my_list_of_dicts.append(each_json_tweet)"
   ]
  },
  {
   "cell_type": "code",
   "execution_count": 9,
   "id": "30fe8847",
   "metadata": {},
   "outputs": [],
   "source": [
    "# Write tweet data to json file\n",
    "with open('tweet_json.txt', 'w') as file:\n",
    "        file.write(json.dumps(my_list_of_dicts, indent=4))"
   ]
  },
  {
   "cell_type": "code",
   "execution_count": 10,
   "id": "f3b15f30",
   "metadata": {},
   "outputs": [],
   "source": [
    "# saving json file as csv\n",
    "api_tweets = pd.read_json(\"tweet_json.txt\")\n",
    "api_tweets.to_csv(\"tweet.csv\", index=False)"
   ]
  },
  {
   "cell_type": "code",
   "execution_count": 11,
   "id": "64fecc32",
   "metadata": {
    "scrolled": true
   },
   "outputs": [
    {
     "data": {
      "text/html": [
       "<div>\n",
       "<style scoped>\n",
       "    .dataframe tbody tr th:only-of-type {\n",
       "        vertical-align: middle;\n",
       "    }\n",
       "\n",
       "    .dataframe tbody tr th {\n",
       "        vertical-align: top;\n",
       "    }\n",
       "\n",
       "    .dataframe thead th {\n",
       "        text-align: right;\n",
       "    }\n",
       "</style>\n",
       "<table border=\"1\" class=\"dataframe\">\n",
       "  <thead>\n",
       "    <tr style=\"text-align: right;\">\n",
       "      <th></th>\n",
       "      <th>created_at</th>\n",
       "      <th>id</th>\n",
       "      <th>id_str</th>\n",
       "      <th>text</th>\n",
       "      <th>truncated</th>\n",
       "      <th>entities</th>\n",
       "      <th>extended_entities</th>\n",
       "      <th>source</th>\n",
       "      <th>in_reply_to_status_id</th>\n",
       "      <th>in_reply_to_status_id_str</th>\n",
       "      <th>...</th>\n",
       "      <th>favorite_count</th>\n",
       "      <th>favorited</th>\n",
       "      <th>retweeted</th>\n",
       "      <th>possibly_sensitive</th>\n",
       "      <th>possibly_sensitive_appealable</th>\n",
       "      <th>lang</th>\n",
       "      <th>retweeted_status</th>\n",
       "      <th>quoted_status_id</th>\n",
       "      <th>quoted_status_id_str</th>\n",
       "      <th>quoted_status</th>\n",
       "    </tr>\n",
       "  </thead>\n",
       "  <tbody>\n",
       "    <tr>\n",
       "      <th>0</th>\n",
       "      <td>2017-08-01 16:23:56+00:00</td>\n",
       "      <td>892420643555336193</td>\n",
       "      <td>892420643555336192</td>\n",
       "      <td>This is Phineas. He's a mystical boy. Only eve...</td>\n",
       "      <td>False</td>\n",
       "      <td>{'hashtags': [], 'symbols': [], 'user_mentions...</td>\n",
       "      <td>{'media': [{'id': 892420639486877696, 'id_str'...</td>\n",
       "      <td>&lt;a href=\"http://twitter.com/download/iphone\" r...</td>\n",
       "      <td>NaN</td>\n",
       "      <td>NaN</td>\n",
       "      <td>...</td>\n",
       "      <td>32866</td>\n",
       "      <td>False</td>\n",
       "      <td>False</td>\n",
       "      <td>0.0</td>\n",
       "      <td>0.0</td>\n",
       "      <td>en</td>\n",
       "      <td>NaN</td>\n",
       "      <td>NaN</td>\n",
       "      <td>NaN</td>\n",
       "      <td>NaN</td>\n",
       "    </tr>\n",
       "    <tr>\n",
       "      <th>1</th>\n",
       "      <td>2017-08-01 00:17:27+00:00</td>\n",
       "      <td>892177421306343426</td>\n",
       "      <td>892177421306343424</td>\n",
       "      <td>This is Tilly. She's just checking pup on you....</td>\n",
       "      <td>True</td>\n",
       "      <td>{'hashtags': [], 'symbols': [], 'user_mentions...</td>\n",
       "      <td>NaN</td>\n",
       "      <td>&lt;a href=\"http://twitter.com/download/iphone\" r...</td>\n",
       "      <td>NaN</td>\n",
       "      <td>NaN</td>\n",
       "      <td>...</td>\n",
       "      <td>28392</td>\n",
       "      <td>False</td>\n",
       "      <td>False</td>\n",
       "      <td>0.0</td>\n",
       "      <td>0.0</td>\n",
       "      <td>en</td>\n",
       "      <td>NaN</td>\n",
       "      <td>NaN</td>\n",
       "      <td>NaN</td>\n",
       "      <td>NaN</td>\n",
       "    </tr>\n",
       "  </tbody>\n",
       "</table>\n",
       "<p>2 rows × 30 columns</p>\n",
       "</div>"
      ],
      "text/plain": [
       "                  created_at                  id              id_str  \\\n",
       "0  2017-08-01 16:23:56+00:00  892420643555336193  892420643555336192   \n",
       "1  2017-08-01 00:17:27+00:00  892177421306343426  892177421306343424   \n",
       "\n",
       "                                                text  truncated  \\\n",
       "0  This is Phineas. He's a mystical boy. Only eve...      False   \n",
       "1  This is Tilly. She's just checking pup on you....       True   \n",
       "\n",
       "                                            entities  \\\n",
       "0  {'hashtags': [], 'symbols': [], 'user_mentions...   \n",
       "1  {'hashtags': [], 'symbols': [], 'user_mentions...   \n",
       "\n",
       "                                   extended_entities  \\\n",
       "0  {'media': [{'id': 892420639486877696, 'id_str'...   \n",
       "1                                                NaN   \n",
       "\n",
       "                                              source  in_reply_to_status_id  \\\n",
       "0  <a href=\"http://twitter.com/download/iphone\" r...                    NaN   \n",
       "1  <a href=\"http://twitter.com/download/iphone\" r...                    NaN   \n",
       "\n",
       "   in_reply_to_status_id_str  ...  favorite_count  favorited retweeted  \\\n",
       "0                        NaN  ...           32866      False     False   \n",
       "1                        NaN  ...           28392      False     False   \n",
       "\n",
       "  possibly_sensitive  possibly_sensitive_appealable  lang retweeted_status  \\\n",
       "0                0.0                            0.0    en              NaN   \n",
       "1                0.0                            0.0    en              NaN   \n",
       "\n",
       "   quoted_status_id  quoted_status_id_str  quoted_status  \n",
       "0               NaN                   NaN            NaN  \n",
       "1               NaN                   NaN            NaN  \n",
       "\n",
       "[2 rows x 30 columns]"
      ]
     },
     "execution_count": 11,
     "metadata": {},
     "output_type": "execute_result"
    }
   ],
   "source": [
    "# load the csv file to confirm\n",
    "api_data = pd.read_csv(\"tweet.csv\")\n",
    "api_data.head(2)"
   ]
  },
  {
   "cell_type": "markdown",
   "id": "eacce3a6",
   "metadata": {},
   "source": [
    "# 2. Assessing Data\n",
    "\n",
    "## Identify problems in the data by assessing visually and programmatically for quality and tidiness issues.\n",
    "\n",
    "Data Quality Dimensions;\n",
    "\n",
    "    1. Completness - The degree to which the data contains all desired components or measures\n",
    "    2. Validity - The degree to which the data conforms to a defined schema\n",
    "    3. Accuracy - The degree to which the data conforms to the actual entity being measured or described\n",
    "    4. Consistency - The degree to which the data is repeatable from different points of entry or collection\n",
    "    \n",
    " Tidiness - it requires;\n",
    " \n",
    "     1. Each variable forms a column\n",
    "     2. Each observation forms a row\n",
    "     3. Each type of observation unit forms a table\n",
    "     \n",
    "    We have 3 files; archive, images and api data\n",
    "    Visually i used Ms Excel to assess and programmatically i will use Python"
   ]
  },
  {
   "cell_type": "markdown",
   "id": "b812b94b",
   "metadata": {},
   "source": [
    "## 2a. Visual assessment of the three files"
   ]
  },
  {
   "cell_type": "code",
   "execution_count": 12,
   "id": "3936c51d",
   "metadata": {},
   "outputs": [
    {
     "name": "stdout",
     "output_type": "stream",
     "text": [
      "<class 'pandas.core.frame.DataFrame'>\n",
      "RangeIndex: 2356 entries, 0 to 2355\n",
      "Data columns (total 17 columns):\n",
      " #   Column                      Non-Null Count  Dtype  \n",
      "---  ------                      --------------  -----  \n",
      " 0   tweet_id                    2356 non-null   int64  \n",
      " 1   in_reply_to_status_id       78 non-null     float64\n",
      " 2   in_reply_to_user_id         78 non-null     float64\n",
      " 3   timestamp                   2356 non-null   object \n",
      " 4   source                      2356 non-null   object \n",
      " 5   text                        2356 non-null   object \n",
      " 6   retweeted_status_id         181 non-null    float64\n",
      " 7   retweeted_status_user_id    181 non-null    float64\n",
      " 8   retweeted_status_timestamp  181 non-null    object \n",
      " 9   expanded_urls               2297 non-null   object \n",
      " 10  rating_numerator            2356 non-null   int64  \n",
      " 11  rating_denominator          2356 non-null   int64  \n",
      " 12  name                        2356 non-null   object \n",
      " 13  doggo                       2356 non-null   object \n",
      " 14  floofer                     2356 non-null   object \n",
      " 15  pupper                      2356 non-null   object \n",
      " 16  puppo                       2356 non-null   object \n",
      "dtypes: float64(4), int64(3), object(10)\n",
      "memory usage: 313.0+ KB\n"
     ]
    }
   ],
   "source": [
    "archive.info()"
   ]
  },
  {
   "cell_type": "markdown",
   "id": "5b0e7a5e",
   "metadata": {},
   "source": [
    " **Insights:**  \n",
    "    \n",
    "    Some Columns have missing values\n",
    "    Some columns have mismatched datatypes eg timestamp needs to be datetime\n",
    "    Some Columns need to be placed as one ie doggo,floofer,pupper,puppo\n",
    "    Some Columns are redundant i.e not needed for the analysis"
   ]
  },
  {
   "cell_type": "code",
   "execution_count": 13,
   "id": "013691d2",
   "metadata": {
    "scrolled": true
   },
   "outputs": [
    {
     "data": {
      "text/html": [
       "<div>\n",
       "<style scoped>\n",
       "    .dataframe tbody tr th:only-of-type {\n",
       "        vertical-align: middle;\n",
       "    }\n",
       "\n",
       "    .dataframe tbody tr th {\n",
       "        vertical-align: top;\n",
       "    }\n",
       "\n",
       "    .dataframe thead th {\n",
       "        text-align: right;\n",
       "    }\n",
       "</style>\n",
       "<table border=\"1\" class=\"dataframe\">\n",
       "  <thead>\n",
       "    <tr style=\"text-align: right;\">\n",
       "      <th></th>\n",
       "      <th>tweet_id</th>\n",
       "      <th>in_reply_to_status_id</th>\n",
       "      <th>in_reply_to_user_id</th>\n",
       "      <th>timestamp</th>\n",
       "      <th>source</th>\n",
       "      <th>text</th>\n",
       "      <th>retweeted_status_id</th>\n",
       "      <th>retweeted_status_user_id</th>\n",
       "      <th>retweeted_status_timestamp</th>\n",
       "      <th>expanded_urls</th>\n",
       "      <th>rating_numerator</th>\n",
       "      <th>rating_denominator</th>\n",
       "      <th>name</th>\n",
       "      <th>doggo</th>\n",
       "      <th>floofer</th>\n",
       "      <th>pupper</th>\n",
       "      <th>puppo</th>\n",
       "    </tr>\n",
       "  </thead>\n",
       "  <tbody>\n",
       "    <tr>\n",
       "      <th>0</th>\n",
       "      <td>892420643555336193</td>\n",
       "      <td>NaN</td>\n",
       "      <td>NaN</td>\n",
       "      <td>2017-08-01 16:23:56 +0000</td>\n",
       "      <td>&lt;a href=\"http://twitter.com/download/iphone\" r...</td>\n",
       "      <td>This is Phineas. He's a mystical boy. Only eve...</td>\n",
       "      <td>NaN</td>\n",
       "      <td>NaN</td>\n",
       "      <td>NaN</td>\n",
       "      <td>https://twitter.com/dog_rates/status/892420643...</td>\n",
       "      <td>13</td>\n",
       "      <td>10</td>\n",
       "      <td>Phineas</td>\n",
       "      <td>None</td>\n",
       "      <td>None</td>\n",
       "      <td>None</td>\n",
       "      <td>None</td>\n",
       "    </tr>\n",
       "    <tr>\n",
       "      <th>1</th>\n",
       "      <td>892177421306343426</td>\n",
       "      <td>NaN</td>\n",
       "      <td>NaN</td>\n",
       "      <td>2017-08-01 00:17:27 +0000</td>\n",
       "      <td>&lt;a href=\"http://twitter.com/download/iphone\" r...</td>\n",
       "      <td>This is Tilly. She's just checking pup on you....</td>\n",
       "      <td>NaN</td>\n",
       "      <td>NaN</td>\n",
       "      <td>NaN</td>\n",
       "      <td>https://twitter.com/dog_rates/status/892177421...</td>\n",
       "      <td>13</td>\n",
       "      <td>10</td>\n",
       "      <td>Tilly</td>\n",
       "      <td>None</td>\n",
       "      <td>None</td>\n",
       "      <td>None</td>\n",
       "      <td>None</td>\n",
       "    </tr>\n",
       "  </tbody>\n",
       "</table>\n",
       "</div>"
      ],
      "text/plain": [
       "             tweet_id  in_reply_to_status_id  in_reply_to_user_id  \\\n",
       "0  892420643555336193                    NaN                  NaN   \n",
       "1  892177421306343426                    NaN                  NaN   \n",
       "\n",
       "                   timestamp  \\\n",
       "0  2017-08-01 16:23:56 +0000   \n",
       "1  2017-08-01 00:17:27 +0000   \n",
       "\n",
       "                                              source  \\\n",
       "0  <a href=\"http://twitter.com/download/iphone\" r...   \n",
       "1  <a href=\"http://twitter.com/download/iphone\" r...   \n",
       "\n",
       "                                                text  retweeted_status_id  \\\n",
       "0  This is Phineas. He's a mystical boy. Only eve...                  NaN   \n",
       "1  This is Tilly. She's just checking pup on you....                  NaN   \n",
       "\n",
       "   retweeted_status_user_id retweeted_status_timestamp  \\\n",
       "0                       NaN                        NaN   \n",
       "1                       NaN                        NaN   \n",
       "\n",
       "                                       expanded_urls  rating_numerator  \\\n",
       "0  https://twitter.com/dog_rates/status/892420643...                13   \n",
       "1  https://twitter.com/dog_rates/status/892177421...                13   \n",
       "\n",
       "   rating_denominator     name doggo floofer pupper puppo  \n",
       "0                  10  Phineas  None    None   None  None  \n",
       "1                  10    Tilly  None    None   None  None  "
      ]
     },
     "execution_count": 13,
     "metadata": {},
     "output_type": "execute_result"
    }
   ],
   "source": [
    "archive.head(2)"
   ]
  },
  {
   "cell_type": "markdown",
   "id": "b78d4657",
   "metadata": {},
   "source": [
    "**Insights:**\n",
    "\n",
    "As i can't display the whole dataframe to visually assess, i used Ms Ecxel and these were my findings;\n",
    "\n",
    "    1. In the text column, those starting with RT are retweets and need to be addressed. \n",
    "    Some texts ie tweets are just conversations with no ratings\n",
    "    2. The text column has extra urls\n",
    "    3. In the Name column, some values like,'None' and 'a' as names, points to its accuracy. This won't be cleaned though.\n",
    "    4. The rating numerator and denometor column, some have more than 10. We'll assess more programmatically so as\n",
    "    to standardize for cosistency."
   ]
  },
  {
   "cell_type": "code",
   "execution_count": 14,
   "id": "2ece79f2",
   "metadata": {},
   "outputs": [
    {
     "name": "stdout",
     "output_type": "stream",
     "text": [
      "<class 'pandas.core.frame.DataFrame'>\n",
      "RangeIndex: 2075 entries, 0 to 2074\n",
      "Data columns (total 12 columns):\n",
      " #   Column    Non-Null Count  Dtype  \n",
      "---  ------    --------------  -----  \n",
      " 0   tweet_id  2075 non-null   int64  \n",
      " 1   jpg_url   2075 non-null   object \n",
      " 2   img_num   2075 non-null   int64  \n",
      " 3   p1        2075 non-null   object \n",
      " 4   p1_conf   2075 non-null   float64\n",
      " 5   p1_dog    2075 non-null   bool   \n",
      " 6   p2        2075 non-null   object \n",
      " 7   p2_conf   2075 non-null   float64\n",
      " 8   p2_dog    2075 non-null   bool   \n",
      " 9   p3        2075 non-null   object \n",
      " 10  p3_conf   2075 non-null   float64\n",
      " 11  p3_dog    2075 non-null   bool   \n",
      "dtypes: bool(3), float64(3), int64(2), object(4)\n",
      "memory usage: 152.1+ KB\n"
     ]
    }
   ],
   "source": [
    "images.info()"
   ]
  },
  {
   "cell_type": "markdown",
   "id": "c28b1bff",
   "metadata": {},
   "source": [
    "**Insight:\n",
    "\n",
    "    There are 2356 tweets in the archive file and their are 2075 images depicting 281 missing rows\n",
    "    i.e some tweets don't have images"
   ]
  },
  {
   "cell_type": "code",
   "execution_count": 15,
   "id": "9601a8db",
   "metadata": {},
   "outputs": [
    {
     "data": {
      "text/html": [
       "<div>\n",
       "<style scoped>\n",
       "    .dataframe tbody tr th:only-of-type {\n",
       "        vertical-align: middle;\n",
       "    }\n",
       "\n",
       "    .dataframe tbody tr th {\n",
       "        vertical-align: top;\n",
       "    }\n",
       "\n",
       "    .dataframe thead th {\n",
       "        text-align: right;\n",
       "    }\n",
       "</style>\n",
       "<table border=\"1\" class=\"dataframe\">\n",
       "  <thead>\n",
       "    <tr style=\"text-align: right;\">\n",
       "      <th></th>\n",
       "      <th>tweet_id</th>\n",
       "      <th>jpg_url</th>\n",
       "      <th>img_num</th>\n",
       "      <th>p1</th>\n",
       "      <th>p1_conf</th>\n",
       "      <th>p1_dog</th>\n",
       "      <th>p2</th>\n",
       "      <th>p2_conf</th>\n",
       "      <th>p2_dog</th>\n",
       "      <th>p3</th>\n",
       "      <th>p3_conf</th>\n",
       "      <th>p3_dog</th>\n",
       "    </tr>\n",
       "  </thead>\n",
       "  <tbody>\n",
       "    <tr>\n",
       "      <th>0</th>\n",
       "      <td>666020888022790149</td>\n",
       "      <td>https://pbs.twimg.com/media/CT4udn0WwAA0aMy.jpg</td>\n",
       "      <td>1</td>\n",
       "      <td>Welsh_springer_spaniel</td>\n",
       "      <td>0.465074</td>\n",
       "      <td>True</td>\n",
       "      <td>collie</td>\n",
       "      <td>0.156665</td>\n",
       "      <td>True</td>\n",
       "      <td>Shetland_sheepdog</td>\n",
       "      <td>0.061428</td>\n",
       "      <td>True</td>\n",
       "    </tr>\n",
       "    <tr>\n",
       "      <th>1</th>\n",
       "      <td>666029285002620928</td>\n",
       "      <td>https://pbs.twimg.com/media/CT42GRgUYAA5iDo.jpg</td>\n",
       "      <td>1</td>\n",
       "      <td>redbone</td>\n",
       "      <td>0.506826</td>\n",
       "      <td>True</td>\n",
       "      <td>miniature_pinscher</td>\n",
       "      <td>0.074192</td>\n",
       "      <td>True</td>\n",
       "      <td>Rhodesian_ridgeback</td>\n",
       "      <td>0.072010</td>\n",
       "      <td>True</td>\n",
       "    </tr>\n",
       "    <tr>\n",
       "      <th>2</th>\n",
       "      <td>666033412701032449</td>\n",
       "      <td>https://pbs.twimg.com/media/CT4521TWwAEvMyu.jpg</td>\n",
       "      <td>1</td>\n",
       "      <td>German_shepherd</td>\n",
       "      <td>0.596461</td>\n",
       "      <td>True</td>\n",
       "      <td>malinois</td>\n",
       "      <td>0.138584</td>\n",
       "      <td>True</td>\n",
       "      <td>bloodhound</td>\n",
       "      <td>0.116197</td>\n",
       "      <td>True</td>\n",
       "    </tr>\n",
       "    <tr>\n",
       "      <th>3</th>\n",
       "      <td>666044226329800704</td>\n",
       "      <td>https://pbs.twimg.com/media/CT5Dr8HUEAA-lEu.jpg</td>\n",
       "      <td>1</td>\n",
       "      <td>Rhodesian_ridgeback</td>\n",
       "      <td>0.408143</td>\n",
       "      <td>True</td>\n",
       "      <td>redbone</td>\n",
       "      <td>0.360687</td>\n",
       "      <td>True</td>\n",
       "      <td>miniature_pinscher</td>\n",
       "      <td>0.222752</td>\n",
       "      <td>True</td>\n",
       "    </tr>\n",
       "    <tr>\n",
       "      <th>4</th>\n",
       "      <td>666049248165822465</td>\n",
       "      <td>https://pbs.twimg.com/media/CT5IQmsXIAAKY4A.jpg</td>\n",
       "      <td>1</td>\n",
       "      <td>miniature_pinscher</td>\n",
       "      <td>0.560311</td>\n",
       "      <td>True</td>\n",
       "      <td>Rottweiler</td>\n",
       "      <td>0.243682</td>\n",
       "      <td>True</td>\n",
       "      <td>Doberman</td>\n",
       "      <td>0.154629</td>\n",
       "      <td>True</td>\n",
       "    </tr>\n",
       "  </tbody>\n",
       "</table>\n",
       "</div>"
      ],
      "text/plain": [
       "             tweet_id                                          jpg_url  \\\n",
       "0  666020888022790149  https://pbs.twimg.com/media/CT4udn0WwAA0aMy.jpg   \n",
       "1  666029285002620928  https://pbs.twimg.com/media/CT42GRgUYAA5iDo.jpg   \n",
       "2  666033412701032449  https://pbs.twimg.com/media/CT4521TWwAEvMyu.jpg   \n",
       "3  666044226329800704  https://pbs.twimg.com/media/CT5Dr8HUEAA-lEu.jpg   \n",
       "4  666049248165822465  https://pbs.twimg.com/media/CT5IQmsXIAAKY4A.jpg   \n",
       "\n",
       "   img_num                      p1   p1_conf  p1_dog                  p2  \\\n",
       "0        1  Welsh_springer_spaniel  0.465074    True              collie   \n",
       "1        1                 redbone  0.506826    True  miniature_pinscher   \n",
       "2        1         German_shepherd  0.596461    True            malinois   \n",
       "3        1     Rhodesian_ridgeback  0.408143    True             redbone   \n",
       "4        1      miniature_pinscher  0.560311    True          Rottweiler   \n",
       "\n",
       "    p2_conf  p2_dog                   p3   p3_conf  p3_dog  \n",
       "0  0.156665    True    Shetland_sheepdog  0.061428    True  \n",
       "1  0.074192    True  Rhodesian_ridgeback  0.072010    True  \n",
       "2  0.138584    True           bloodhound  0.116197    True  \n",
       "3  0.360687    True   miniature_pinscher  0.222752    True  \n",
       "4  0.243682    True             Doberman  0.154629    True  "
      ]
     },
     "execution_count": 15,
     "metadata": {},
     "output_type": "execute_result"
    }
   ],
   "source": [
    "images.head()"
   ]
  },
  {
   "cell_type": "markdown",
   "id": "b0fb624d",
   "metadata": {},
   "source": [
    "**Insights**\n",
    "With a more visual view, i imported the file into Excel and this was my finding;\n",
    "\n",
    "    1. p1,p2,p3 values are inconsistent, some start with capital letters others small letters. This needs to be addressed.\n",
    "    2. Column names need to be more descriptive\n",
    "    3. p1, p2, p3 can be merged to one prediction column based on the true values of p1_dog, p2_dog and p3_dog. \n",
    "    P1_conf, p2_conf,P3_config can also be merged to one column to align with the confidence level of the predictions."
   ]
  },
  {
   "cell_type": "code",
   "execution_count": 16,
   "id": "bced194a",
   "metadata": {},
   "outputs": [
    {
     "name": "stdout",
     "output_type": "stream",
     "text": [
      "<class 'pandas.core.frame.DataFrame'>\n",
      "RangeIndex: 2325 entries, 0 to 2324\n",
      "Data columns (total 30 columns):\n",
      " #   Column                         Non-Null Count  Dtype  \n",
      "---  ------                         --------------  -----  \n",
      " 0   created_at                     2325 non-null   object \n",
      " 1   id                             2325 non-null   int64  \n",
      " 2   id_str                         2325 non-null   int64  \n",
      " 3   text                           2325 non-null   object \n",
      " 4   truncated                      2325 non-null   bool   \n",
      " 5   entities                       2325 non-null   object \n",
      " 6   extended_entities              1812 non-null   object \n",
      " 7   source                         2325 non-null   object \n",
      " 8   in_reply_to_status_id          77 non-null     float64\n",
      " 9   in_reply_to_status_id_str      77 non-null     float64\n",
      " 10  in_reply_to_user_id            77 non-null     float64\n",
      " 11  in_reply_to_user_id_str        77 non-null     float64\n",
      " 12  in_reply_to_screen_name        77 non-null     object \n",
      " 13  user                           2325 non-null   object \n",
      " 14  geo                            0 non-null      float64\n",
      " 15  coordinates                    0 non-null      float64\n",
      " 16  place                          1 non-null      object \n",
      " 17  contributors                   0 non-null      float64\n",
      " 18  is_quote_status                2325 non-null   bool   \n",
      " 19  retweet_count                  2325 non-null   int64  \n",
      " 20  favorite_count                 2325 non-null   int64  \n",
      " 21  favorited                      2325 non-null   bool   \n",
      " 22  retweeted                      2325 non-null   bool   \n",
      " 23  possibly_sensitive             2193 non-null   float64\n",
      " 24  possibly_sensitive_appealable  2193 non-null   float64\n",
      " 25  lang                           2325 non-null   object \n",
      " 26  retweeted_status               158 non-null    object \n",
      " 27  quoted_status_id               26 non-null     float64\n",
      " 28  quoted_status_id_str           26 non-null     float64\n",
      " 29  quoted_status                  23 non-null     object \n",
      "dtypes: bool(4), float64(11), int64(4), object(11)\n",
      "memory usage: 481.5+ KB\n"
     ]
    }
   ],
   "source": [
    "api_data.info()"
   ]
  },
  {
   "cell_type": "markdown",
   "id": "8484de24",
   "metadata": {},
   "source": [
    "**Insight:**\n",
    "\n",
    "    - There are 2356 tweets in the archive data and 2325 in the api data depicting 31 missing rows\n",
    "    - Only the id, retweet_count and favorite_count are needed for this analysis, the rest will be dropped\n",
    "    - id column to be renamed as tweet_id\n",
    "    "
   ]
  },
  {
   "cell_type": "markdown",
   "id": "4e0007c0",
   "metadata": {},
   "source": [
    "## 2b Assessing the three files programmatically\n",
    "\n",
    "### 1. Archive File"
   ]
  },
  {
   "cell_type": "code",
   "execution_count": 17,
   "id": "5172c7d3",
   "metadata": {},
   "outputs": [
    {
     "data": {
      "text/plain": [
       "0"
      ]
     },
     "execution_count": 17,
     "metadata": {},
     "output_type": "execute_result"
    }
   ],
   "source": [
    "#Checking duplicates\n",
    "archive.duplicated().sum()"
   ]
  },
  {
   "cell_type": "code",
   "execution_count": 18,
   "id": "b219a573",
   "metadata": {},
   "outputs": [
    {
     "data": {
      "text/plain": [
       "0"
      ]
     },
     "execution_count": 18,
     "metadata": {},
     "output_type": "execute_result"
    }
   ],
   "source": [
    "#Confirming duplicates for tweet id\n",
    "archive.tweet_id.duplicated().sum()"
   ]
  },
  {
   "cell_type": "code",
   "execution_count": 19,
   "id": "c1847d49",
   "metadata": {},
   "outputs": [
    {
     "data": {
      "text/plain": [
       "2175"
      ]
     },
     "execution_count": 19,
     "metadata": {},
     "output_type": "execute_result"
    }
   ],
   "source": [
    "#Checking for original tweets\n",
    "archive.retweeted_status_id.isnull().sum()"
   ]
  },
  {
   "cell_type": "markdown",
   "id": "db136214",
   "metadata": {},
   "source": [
    "**Insight:**\n",
    "\n",
    "    Out of the 2356, 2175 are original tweets and 181 are retweets (duplicates)"
   ]
  },
  {
   "cell_type": "code",
   "execution_count": 20,
   "id": "340825e9",
   "metadata": {},
   "outputs": [
    {
     "data": {
      "text/plain": [
       "181"
      ]
     },
     "execution_count": 20,
     "metadata": {},
     "output_type": "execute_result"
    }
   ],
   "source": [
    "# Confirming re-tweets \n",
    "archive.retweeted_status_id.notnull().sum()"
   ]
  },
  {
   "cell_type": "code",
   "execution_count": 21,
   "id": "3296dc73",
   "metadata": {
    "scrolled": true
   },
   "outputs": [
    {
     "data": {
      "text/plain": [
       "10     2333\n",
       "11        3\n",
       "50        3\n",
       "20        2\n",
       "80        2\n",
       "70        1\n",
       "7         1\n",
       "15        1\n",
       "150       1\n",
       "170       1\n",
       "0         1\n",
       "90        1\n",
       "40        1\n",
       "130       1\n",
       "110       1\n",
       "16        1\n",
       "120       1\n",
       "2         1\n",
       "Name: rating_denominator, dtype: int64"
      ]
     },
     "execution_count": 21,
     "metadata": {},
     "output_type": "execute_result"
    }
   ],
   "source": [
    "archive.rating_denominator.value_counts()"
   ]
  },
  {
   "cell_type": "markdown",
   "id": "14eeb28f",
   "metadata": {},
   "source": [
    "10 is the standard rating denomenator, other numbers could be wrongly typed or misinterprated"
   ]
  },
  {
   "cell_type": "code",
   "execution_count": 22,
   "id": "e72b5a0e",
   "metadata": {},
   "outputs": [
    {
     "data": {
      "text/plain": [
       "12      558\n",
       "11      464\n",
       "10      461\n",
       "13      351\n",
       "9       158\n",
       "8       102\n",
       "7        55\n",
       "14       54\n",
       "5        37\n",
       "6        32\n",
       "3        19\n",
       "4        17\n",
       "2         9\n",
       "1         9\n",
       "75        2\n",
       "15        2\n",
       "420       2\n",
       "0         2\n",
       "80        1\n",
       "144       1\n",
       "17        1\n",
       "26        1\n",
       "20        1\n",
       "121       1\n",
       "143       1\n",
       "44        1\n",
       "60        1\n",
       "45        1\n",
       "50        1\n",
       "99        1\n",
       "204       1\n",
       "1776      1\n",
       "165       1\n",
       "666       1\n",
       "27        1\n",
       "182       1\n",
       "24        1\n",
       "960       1\n",
       "84        1\n",
       "88        1\n",
       "Name: rating_numerator, dtype: int64"
      ]
     },
     "execution_count": 22,
     "metadata": {},
     "output_type": "execute_result"
    }
   ],
   "source": [
    "archive.rating_numerator.value_counts()"
   ]
  },
  {
   "cell_type": "markdown",
   "id": "266ead9f",
   "metadata": {},
   "source": [
    "Some extreme values such 1776, 960, 666 etc could be misstyped, wrongly captured "
   ]
  },
  {
   "cell_type": "code",
   "execution_count": 23,
   "id": "474a8fa9",
   "metadata": {},
   "outputs": [
    {
     "data": {
      "text/plain": [
       "tweet_id                         0\n",
       "in_reply_to_status_id         2278\n",
       "in_reply_to_user_id           2278\n",
       "timestamp                        0\n",
       "source                           0\n",
       "text                             0\n",
       "retweeted_status_id           2175\n",
       "retweeted_status_user_id      2175\n",
       "retweeted_status_timestamp    2175\n",
       "expanded_urls                   59\n",
       "rating_numerator                 0\n",
       "rating_denominator               0\n",
       "name                             0\n",
       "doggo                            0\n",
       "floofer                          0\n",
       "pupper                           0\n",
       "puppo                            0\n",
       "dtype: int64"
      ]
     },
     "execution_count": 23,
     "metadata": {},
     "output_type": "execute_result"
    }
   ],
   "source": [
    "# Checking for Null Values\n",
    "archive.isnull().sum()"
   ]
  },
  {
   "cell_type": "code",
   "execution_count": 24,
   "id": "97fe1a7e",
   "metadata": {},
   "outputs": [
    {
     "name": "stdout",
     "output_type": "stream",
     "text": [
      "Doggo Values are: ['None' 'doggo']\n",
      "Floofer Values are: ['None' 'floofer']\n",
      "Pupper Values are: ['None' 'pupper']\n",
      "Puppo Values are: ['None' 'puppo']\n"
     ]
    }
   ],
   "source": [
    "# Check values for doggo,floofer,pupper and puppo\n",
    "print('Doggo Values are:',archive.doggo.unique())\n",
    "print('Floofer Values are:',archive.floofer.unique())\n",
    "print('Pupper Values are:',archive.pupper.unique())\n",
    "print('Puppo Values are:',archive.puppo.unique())"
   ]
  },
  {
   "cell_type": "markdown",
   "id": "1d3f71cc",
   "metadata": {},
   "source": [
    "### 2. Images File"
   ]
  },
  {
   "cell_type": "code",
   "execution_count": 25,
   "id": "4ab76176",
   "metadata": {},
   "outputs": [
    {
     "data": {
      "text/html": [
       "<div>\n",
       "<style scoped>\n",
       "    .dataframe tbody tr th:only-of-type {\n",
       "        vertical-align: middle;\n",
       "    }\n",
       "\n",
       "    .dataframe tbody tr th {\n",
       "        vertical-align: top;\n",
       "    }\n",
       "\n",
       "    .dataframe thead th {\n",
       "        text-align: right;\n",
       "    }\n",
       "</style>\n",
       "<table border=\"1\" class=\"dataframe\">\n",
       "  <thead>\n",
       "    <tr style=\"text-align: right;\">\n",
       "      <th></th>\n",
       "      <th>tweet_id</th>\n",
       "      <th>jpg_url</th>\n",
       "      <th>img_num</th>\n",
       "      <th>p1</th>\n",
       "      <th>p1_conf</th>\n",
       "      <th>p1_dog</th>\n",
       "      <th>p2</th>\n",
       "      <th>p2_conf</th>\n",
       "      <th>p2_dog</th>\n",
       "      <th>p3</th>\n",
       "      <th>p3_conf</th>\n",
       "      <th>p3_dog</th>\n",
       "    </tr>\n",
       "  </thead>\n",
       "  <tbody>\n",
       "    <tr>\n",
       "      <th>0</th>\n",
       "      <td>666020888022790149</td>\n",
       "      <td>https://pbs.twimg.com/media/CT4udn0WwAA0aMy.jpg</td>\n",
       "      <td>1</td>\n",
       "      <td>Welsh_springer_spaniel</td>\n",
       "      <td>0.465074</td>\n",
       "      <td>True</td>\n",
       "      <td>collie</td>\n",
       "      <td>0.156665</td>\n",
       "      <td>True</td>\n",
       "      <td>Shetland_sheepdog</td>\n",
       "      <td>0.061428</td>\n",
       "      <td>True</td>\n",
       "    </tr>\n",
       "    <tr>\n",
       "      <th>1</th>\n",
       "      <td>666029285002620928</td>\n",
       "      <td>https://pbs.twimg.com/media/CT42GRgUYAA5iDo.jpg</td>\n",
       "      <td>1</td>\n",
       "      <td>redbone</td>\n",
       "      <td>0.506826</td>\n",
       "      <td>True</td>\n",
       "      <td>miniature_pinscher</td>\n",
       "      <td>0.074192</td>\n",
       "      <td>True</td>\n",
       "      <td>Rhodesian_ridgeback</td>\n",
       "      <td>0.072010</td>\n",
       "      <td>True</td>\n",
       "    </tr>\n",
       "    <tr>\n",
       "      <th>2</th>\n",
       "      <td>666033412701032449</td>\n",
       "      <td>https://pbs.twimg.com/media/CT4521TWwAEvMyu.jpg</td>\n",
       "      <td>1</td>\n",
       "      <td>German_shepherd</td>\n",
       "      <td>0.596461</td>\n",
       "      <td>True</td>\n",
       "      <td>malinois</td>\n",
       "      <td>0.138584</td>\n",
       "      <td>True</td>\n",
       "      <td>bloodhound</td>\n",
       "      <td>0.116197</td>\n",
       "      <td>True</td>\n",
       "    </tr>\n",
       "    <tr>\n",
       "      <th>3</th>\n",
       "      <td>666044226329800704</td>\n",
       "      <td>https://pbs.twimg.com/media/CT5Dr8HUEAA-lEu.jpg</td>\n",
       "      <td>1</td>\n",
       "      <td>Rhodesian_ridgeback</td>\n",
       "      <td>0.408143</td>\n",
       "      <td>True</td>\n",
       "      <td>redbone</td>\n",
       "      <td>0.360687</td>\n",
       "      <td>True</td>\n",
       "      <td>miniature_pinscher</td>\n",
       "      <td>0.222752</td>\n",
       "      <td>True</td>\n",
       "    </tr>\n",
       "    <tr>\n",
       "      <th>4</th>\n",
       "      <td>666049248165822465</td>\n",
       "      <td>https://pbs.twimg.com/media/CT5IQmsXIAAKY4A.jpg</td>\n",
       "      <td>1</td>\n",
       "      <td>miniature_pinscher</td>\n",
       "      <td>0.560311</td>\n",
       "      <td>True</td>\n",
       "      <td>Rottweiler</td>\n",
       "      <td>0.243682</td>\n",
       "      <td>True</td>\n",
       "      <td>Doberman</td>\n",
       "      <td>0.154629</td>\n",
       "      <td>True</td>\n",
       "    </tr>\n",
       "  </tbody>\n",
       "</table>\n",
       "</div>"
      ],
      "text/plain": [
       "             tweet_id                                          jpg_url  \\\n",
       "0  666020888022790149  https://pbs.twimg.com/media/CT4udn0WwAA0aMy.jpg   \n",
       "1  666029285002620928  https://pbs.twimg.com/media/CT42GRgUYAA5iDo.jpg   \n",
       "2  666033412701032449  https://pbs.twimg.com/media/CT4521TWwAEvMyu.jpg   \n",
       "3  666044226329800704  https://pbs.twimg.com/media/CT5Dr8HUEAA-lEu.jpg   \n",
       "4  666049248165822465  https://pbs.twimg.com/media/CT5IQmsXIAAKY4A.jpg   \n",
       "\n",
       "   img_num                      p1   p1_conf  p1_dog                  p2  \\\n",
       "0        1  Welsh_springer_spaniel  0.465074    True              collie   \n",
       "1        1                 redbone  0.506826    True  miniature_pinscher   \n",
       "2        1         German_shepherd  0.596461    True            malinois   \n",
       "3        1     Rhodesian_ridgeback  0.408143    True             redbone   \n",
       "4        1      miniature_pinscher  0.560311    True          Rottweiler   \n",
       "\n",
       "    p2_conf  p2_dog                   p3   p3_conf  p3_dog  \n",
       "0  0.156665    True    Shetland_sheepdog  0.061428    True  \n",
       "1  0.074192    True  Rhodesian_ridgeback  0.072010    True  \n",
       "2  0.138584    True           bloodhound  0.116197    True  \n",
       "3  0.360687    True   miniature_pinscher  0.222752    True  \n",
       "4  0.243682    True             Doberman  0.154629    True  "
      ]
     },
     "execution_count": 25,
     "metadata": {},
     "output_type": "execute_result"
    }
   ],
   "source": [
    "images.head(5)"
   ]
  },
  {
   "cell_type": "code",
   "execution_count": 26,
   "id": "6f2eedb5",
   "metadata": {},
   "outputs": [
    {
     "data": {
      "text/plain": [
       "281"
      ]
     },
     "execution_count": 26,
     "metadata": {},
     "output_type": "execute_result"
    }
   ],
   "source": [
    "# missing rows\n",
    "len(archive) - len(images)"
   ]
  },
  {
   "cell_type": "code",
   "execution_count": 27,
   "id": "d1d7d2df",
   "metadata": {},
   "outputs": [
    {
     "data": {
      "text/plain": [
       "66"
      ]
     },
     "execution_count": 27,
     "metadata": {},
     "output_type": "execute_result"
    }
   ],
   "source": [
    "#Check duplicates in jpg_url as same url means duplicated data\n",
    "images['jpg_url'].duplicated().sum()"
   ]
  },
  {
   "cell_type": "code",
   "execution_count": 28,
   "id": "8d53f349",
   "metadata": {},
   "outputs": [
    {
     "data": {
      "text/plain": [
       "tweet_id    0\n",
       "jpg_url     0\n",
       "img_num     0\n",
       "p1          0\n",
       "p1_conf     0\n",
       "p1_dog      0\n",
       "p2          0\n",
       "p2_conf     0\n",
       "p2_dog      0\n",
       "p3          0\n",
       "p3_conf     0\n",
       "p3_dog      0\n",
       "dtype: int64"
      ]
     },
     "execution_count": 28,
     "metadata": {},
     "output_type": "execute_result"
    }
   ],
   "source": [
    "#Checking for Null values\n",
    "images.isnull().sum()"
   ]
  },
  {
   "cell_type": "code",
   "execution_count": 29,
   "id": "b253338e",
   "metadata": {},
   "outputs": [
    {
     "name": "stdout",
     "output_type": "stream",
     "text": [
      "P1 Dog Values are: [ True False]\n",
      "P2 Dog Values are: [ True False]\n",
      "P3 Dog Values are: [ True False]\n"
     ]
    }
   ],
   "source": [
    "# Check values for P1,P2,P3 dog\n",
    "print('P1 Dog Values are:',images.p1_dog.unique())\n",
    "print('P2 Dog Values are:',images.p2_dog.unique())\n",
    "print('P3 Dog Values are:',images.p3_dog.unique())"
   ]
  },
  {
   "cell_type": "markdown",
   "id": "8f317c26",
   "metadata": {},
   "source": [
    "### 3. Api Data File"
   ]
  },
  {
   "cell_type": "code",
   "execution_count": 30,
   "id": "b33f7986",
   "metadata": {},
   "outputs": [
    {
     "name": "stdout",
     "output_type": "stream",
     "text": [
      "<class 'pandas.core.frame.DataFrame'>\n",
      "RangeIndex: 2325 entries, 0 to 2324\n",
      "Data columns (total 30 columns):\n",
      " #   Column                         Non-Null Count  Dtype  \n",
      "---  ------                         --------------  -----  \n",
      " 0   created_at                     2325 non-null   object \n",
      " 1   id                             2325 non-null   int64  \n",
      " 2   id_str                         2325 non-null   int64  \n",
      " 3   text                           2325 non-null   object \n",
      " 4   truncated                      2325 non-null   bool   \n",
      " 5   entities                       2325 non-null   object \n",
      " 6   extended_entities              1812 non-null   object \n",
      " 7   source                         2325 non-null   object \n",
      " 8   in_reply_to_status_id          77 non-null     float64\n",
      " 9   in_reply_to_status_id_str      77 non-null     float64\n",
      " 10  in_reply_to_user_id            77 non-null     float64\n",
      " 11  in_reply_to_user_id_str        77 non-null     float64\n",
      " 12  in_reply_to_screen_name        77 non-null     object \n",
      " 13  user                           2325 non-null   object \n",
      " 14  geo                            0 non-null      float64\n",
      " 15  coordinates                    0 non-null      float64\n",
      " 16  place                          1 non-null      object \n",
      " 17  contributors                   0 non-null      float64\n",
      " 18  is_quote_status                2325 non-null   bool   \n",
      " 19  retweet_count                  2325 non-null   int64  \n",
      " 20  favorite_count                 2325 non-null   int64  \n",
      " 21  favorited                      2325 non-null   bool   \n",
      " 22  retweeted                      2325 non-null   bool   \n",
      " 23  possibly_sensitive             2193 non-null   float64\n",
      " 24  possibly_sensitive_appealable  2193 non-null   float64\n",
      " 25  lang                           2325 non-null   object \n",
      " 26  retweeted_status               158 non-null    object \n",
      " 27  quoted_status_id               26 non-null     float64\n",
      " 28  quoted_status_id_str           26 non-null     float64\n",
      " 29  quoted_status                  23 non-null     object \n",
      "dtypes: bool(4), float64(11), int64(4), object(11)\n",
      "memory usage: 481.5+ KB\n"
     ]
    }
   ],
   "source": [
    "api_data.info()"
   ]
  },
  {
   "cell_type": "code",
   "execution_count": 31,
   "id": "5c56ee55",
   "metadata": {},
   "outputs": [
    {
     "data": {
      "text/plain": [
       "31"
      ]
     },
     "execution_count": 31,
     "metadata": {},
     "output_type": "execute_result"
    }
   ],
   "source": [
    "# missing rows\n",
    "len(archive) - len(api_data)"
   ]
  },
  {
   "cell_type": "code",
   "execution_count": 32,
   "id": "d6ba368a",
   "metadata": {},
   "outputs": [
    {
     "name": "stdout",
     "output_type": "stream",
     "text": [
      "Id Count:  0\n",
      "Retweet Count:  0\n",
      "Favorite Count:  0\n"
     ]
    }
   ],
   "source": [
    "#Checking for Null in the Columns to be used in analysis\n",
    "print('Id Count: ',api_data.id.isnull().sum())\n",
    "print('Retweet Count: ',api_data.retweet_count.isnull().sum())\n",
    "print('Favorite Count: ',api_data.favorite_count.isnull().sum())"
   ]
  },
  {
   "cell_type": "code",
   "execution_count": 33,
   "id": "73210c30",
   "metadata": {},
   "outputs": [
    {
     "data": {
      "text/plain": [
       "0"
      ]
     },
     "execution_count": 33,
     "metadata": {},
     "output_type": "execute_result"
    }
   ],
   "source": [
    "# Checking for duplicate Id\n",
    "api_data.id.duplicated().sum()"
   ]
  },
  {
   "cell_type": "markdown",
   "id": "68e3700a",
   "metadata": {},
   "source": [
    "## Summary\n",
    "\n",
    "### Quality Issues\n",
    "\n",
    "#### Archive File\n",
    "    1. Some rows are retweets not original tweets\n",
    "    2. Datatype missmatch need to be corrected i.e timestamp\n",
    "    3. Redundant Columns i.e not needed for analysis, need to be dropped\n",
    "    4. NaNs represented as 'None' (str) for name, doggo, floofer, pupper, and puppo columns need to be rectified.\n",
    "    5. The rating numerator and denometor columns need standardization\n",
    "    6. Extra urls in the text column\n",
    "    7. Name column values need standardisation\n",
    "    \n",
    " #### Image Prediction File\n",
    "     1. There are some missing rows in images dataset (2075 rows instead of 2356): \n",
    "     either the rows are missing or some tweets didn't have dog images\n",
    "     2. There are duplicated jpg_url's \n",
    "     3. Redundant Columns i.e not needed for analysis, need to be dropped\n",
    "     4. Column names are non-descriptive\n",
    " \n",
    " #### Api Data File\n",
    "     1. There are some missing rows in the Api Dataset (2323 rows instead of 2356)\n",
    "     2. id column to be renamed as tweet_id\n",
    "     3. Only the id, retweet_count and favorite_count are needed for this analysis, the rest will be dropped\n",
    "    \n",
    "    \n",
    "### Tidiness Issues\n",
    "\n",
    "    1. The doggo, puppo, pupper and floofer columns for dog stages in the twitter_archive table are in seperate columns instead \n",
    "    of a single column\n",
    "    2. p1, p2, p3 can be merged to one prediction column based on the true values of p1_dog, p2_dog and p3_dog. \n",
    "    P1_conf, p2_conf,P3_config can also be merged to one column to align with the confidence level of the predictions.\n",
    "    3. All three datasets need to be joined into one."
   ]
  },
  {
   "cell_type": "markdown",
   "id": "16077145",
   "metadata": {},
   "source": [
    "# 3. Cleaning Data"
   ]
  },
  {
   "cell_type": "code",
   "execution_count": 34,
   "id": "ea9db2fa",
   "metadata": {},
   "outputs": [],
   "source": [
    "#Creating copies of dataset\n",
    "archive_clean = archive.copy()\n",
    "images_clean = images.copy()\n",
    "api_data_clean = api_data.copy()"
   ]
  },
  {
   "cell_type": "markdown",
   "id": "cfd5112a",
   "metadata": {},
   "source": [
    "I will tackle 8 quality issues and 2 tiddiness issues. I will merge the tables to make tackling content quality issues easier. Inorder to merge the tables, i need to tackle a few quality issues to enable merging to happen."
   ]
  },
  {
   "cell_type": "markdown",
   "id": "c90413dd",
   "metadata": {},
   "source": [
    "### Quality issue 1: Changing Column names"
   ]
  },
  {
   "cell_type": "markdown",
   "id": "315f97f6",
   "metadata": {},
   "source": [
    "#### DEFINE: Column name change\n",
    "\n",
    "Change Api Data Dataset 'Id' Column to 'Tweet_id' so as to merge with the other datasets"
   ]
  },
  {
   "cell_type": "markdown",
   "id": "a74c3d65",
   "metadata": {},
   "source": [
    "#### CODE"
   ]
  },
  {
   "cell_type": "code",
   "execution_count": 35,
   "id": "33578f68",
   "metadata": {},
   "outputs": [],
   "source": [
    "api_data_clean.rename(columns = {'id':'tweet_id'}, inplace=True)"
   ]
  },
  {
   "cell_type": "markdown",
   "id": "dc367c9f",
   "metadata": {},
   "source": [
    "#### TEST"
   ]
  },
  {
   "cell_type": "code",
   "execution_count": 36,
   "id": "65371c2b",
   "metadata": {},
   "outputs": [
    {
     "data": {
      "text/plain": [
       "Index(['created_at', 'tweet_id', 'id_str', 'text', 'truncated', 'entities',\n",
       "       'extended_entities', 'source', 'in_reply_to_status_id',\n",
       "       'in_reply_to_status_id_str', 'in_reply_to_user_id',\n",
       "       'in_reply_to_user_id_str', 'in_reply_to_screen_name', 'user', 'geo',\n",
       "       'coordinates', 'place', 'contributors', 'is_quote_status',\n",
       "       'retweet_count', 'favorite_count', 'favorited', 'retweeted',\n",
       "       'possibly_sensitive', 'possibly_sensitive_appealable', 'lang',\n",
       "       'retweeted_status', 'quoted_status_id', 'quoted_status_id_str',\n",
       "       'quoted_status'],\n",
       "      dtype='object')"
      ]
     },
     "execution_count": 36,
     "metadata": {},
     "output_type": "execute_result"
    }
   ],
   "source": [
    "api_data_clean.columns"
   ]
  },
  {
   "cell_type": "markdown",
   "id": "f61f1b10",
   "metadata": {},
   "source": [
    "### Quality issue 2: Dropping Re-tweets\n",
    "#### DEFINE: \n",
    "Dropping re-tweets by picking the values that are not null in retweeted status id"
   ]
  },
  {
   "cell_type": "markdown",
   "id": "6ab1a062",
   "metadata": {},
   "source": [
    "#### CODE"
   ]
  },
  {
   "cell_type": "code",
   "execution_count": 37,
   "id": "4aa57bc9",
   "metadata": {},
   "outputs": [],
   "source": [
    "archive_clean = archive_clean[archive_clean['retweeted_status_id'].isnull()]"
   ]
  },
  {
   "cell_type": "markdown",
   "id": "55a00cd0",
   "metadata": {},
   "source": [
    "#### TEST"
   ]
  },
  {
   "cell_type": "code",
   "execution_count": 38,
   "id": "32cdc8e4",
   "metadata": {},
   "outputs": [
    {
     "data": {
      "text/plain": [
       "array([nan])"
      ]
     },
     "execution_count": 38,
     "metadata": {},
     "output_type": "execute_result"
    }
   ],
   "source": [
    "archive_clean['retweeted_status_id'].unique()"
   ]
  },
  {
   "cell_type": "code",
   "execution_count": 39,
   "id": "38d67cf4",
   "metadata": {},
   "outputs": [
    {
     "name": "stdout",
     "output_type": "stream",
     "text": [
      "<class 'pandas.core.frame.DataFrame'>\n",
      "Int64Index: 2175 entries, 0 to 2355\n",
      "Data columns (total 17 columns):\n",
      " #   Column                      Non-Null Count  Dtype  \n",
      "---  ------                      --------------  -----  \n",
      " 0   tweet_id                    2175 non-null   int64  \n",
      " 1   in_reply_to_status_id       78 non-null     float64\n",
      " 2   in_reply_to_user_id         78 non-null     float64\n",
      " 3   timestamp                   2175 non-null   object \n",
      " 4   source                      2175 non-null   object \n",
      " 5   text                        2175 non-null   object \n",
      " 6   retweeted_status_id         0 non-null      float64\n",
      " 7   retweeted_status_user_id    0 non-null      float64\n",
      " 8   retweeted_status_timestamp  0 non-null      object \n",
      " 9   expanded_urls               2117 non-null   object \n",
      " 10  rating_numerator            2175 non-null   int64  \n",
      " 11  rating_denominator          2175 non-null   int64  \n",
      " 12  name                        2175 non-null   object \n",
      " 13  doggo                       2175 non-null   object \n",
      " 14  floofer                     2175 non-null   object \n",
      " 15  pupper                      2175 non-null   object \n",
      " 16  puppo                       2175 non-null   object \n",
      "dtypes: float64(4), int64(3), object(10)\n",
      "memory usage: 305.9+ KB\n"
     ]
    }
   ],
   "source": [
    "archive_clean.info()"
   ]
  },
  {
   "cell_type": "markdown",
   "id": "0960db66",
   "metadata": {},
   "source": [
    "### Quality issue 3: Duplications"
   ]
  },
  {
   "cell_type": "markdown",
   "id": "bc55ea46",
   "metadata": {},
   "source": [
    "#### DEFINE: duplicated jpg_url's \n",
    "Droping the duplicated jpg urls using drop_duplicates() function"
   ]
  },
  {
   "cell_type": "markdown",
   "id": "0706a8e8",
   "metadata": {},
   "source": [
    "#### CODE"
   ]
  },
  {
   "cell_type": "code",
   "execution_count": 40,
   "id": "31749b8a",
   "metadata": {},
   "outputs": [
    {
     "data": {
      "text/plain": [
       "66"
      ]
     },
     "execution_count": 40,
     "metadata": {},
     "output_type": "execute_result"
    }
   ],
   "source": [
    "# Check the duplicated rows\n",
    "images_clean['jpg_url'].duplicated().sum()"
   ]
  },
  {
   "cell_type": "code",
   "execution_count": 41,
   "id": "cac9c414",
   "metadata": {
    "scrolled": false
   },
   "outputs": [],
   "source": [
    "#drop duplicates\n",
    "images_clean.drop_duplicates(subset=['jpg_url'], keep='last', inplace=True)"
   ]
  },
  {
   "cell_type": "markdown",
   "id": "1943379b",
   "metadata": {},
   "source": [
    "#### TEST"
   ]
  },
  {
   "cell_type": "code",
   "execution_count": 42,
   "id": "9deabbd7",
   "metadata": {},
   "outputs": [
    {
     "data": {
      "text/plain": [
       "0"
      ]
     },
     "execution_count": 42,
     "metadata": {},
     "output_type": "execute_result"
    }
   ],
   "source": [
    "images_clean['jpg_url'].duplicated().sum()"
   ]
  },
  {
   "cell_type": "markdown",
   "id": "e78a84bf",
   "metadata": {},
   "source": [
    "### Tidiness issue 1a: Form one Column "
   ]
  },
  {
   "cell_type": "markdown",
   "id": "0220dae4",
   "metadata": {},
   "source": [
    "#### DEFINE: \n",
    "Columns 'doggo', 'floofer', 'pupper', 'puppo' in archive dataset should be a single column stage. To do this i will use the aggreagate function to combine them into one."
   ]
  },
  {
   "cell_type": "markdown",
   "id": "1c126dc9",
   "metadata": {},
   "source": [
    "#### CODE"
   ]
  },
  {
   "cell_type": "code",
   "execution_count": 43,
   "id": "a88666b3",
   "metadata": {},
   "outputs": [],
   "source": [
    "#replace all the 'None' before aggregating\n",
    "\n",
    "archive_clean.iloc[:,13:17] = archive_clean.iloc[:,13:17].replace('None' , '')"
   ]
  },
  {
   "cell_type": "code",
   "execution_count": 44,
   "id": "cca78b36",
   "metadata": {},
   "outputs": [],
   "source": [
    "# Combine the colums using aggregate function\n",
    "\n",
    "archive_clean['dog_stages'] = archive_clean.iloc[:,13:17].agg(''.join, axis=1)"
   ]
  },
  {
   "cell_type": "code",
   "execution_count": 45,
   "id": "d162f2d1",
   "metadata": {},
   "outputs": [],
   "source": [
    "#Delete the old columns\n",
    "\n",
    "list = ['doggo', 'floofer', 'pupper','puppo']\n",
    "archive_clean.drop(list,axis=1,inplace=True)"
   ]
  },
  {
   "cell_type": "code",
   "execution_count": 46,
   "id": "d39bffb2",
   "metadata": {},
   "outputs": [],
   "source": [
    "# Replace all the empty values with NaN\n",
    "archive_clean['dog_stages'] = archive_clean['dog_stages'].replace('' , np.nan)"
   ]
  },
  {
   "cell_type": "markdown",
   "id": "66b4a99f",
   "metadata": {},
   "source": [
    "#### TEST"
   ]
  },
  {
   "cell_type": "code",
   "execution_count": 47,
   "id": "fc1a782c",
   "metadata": {},
   "outputs": [
    {
     "data": {
      "text/plain": [
       "array([nan, 'doggo', 'puppo', 'pupper', 'floofer', 'doggopuppo',\n",
       "       'doggofloofer', 'doggopupper'], dtype=object)"
      ]
     },
     "execution_count": 47,
     "metadata": {},
     "output_type": "execute_result"
    }
   ],
   "source": [
    "archive_clean.dog_stages.unique()"
   ]
  },
  {
   "cell_type": "code",
   "execution_count": 48,
   "id": "c4014151",
   "metadata": {},
   "outputs": [
    {
     "data": {
      "text/plain": [
       "Index(['tweet_id', 'in_reply_to_status_id', 'in_reply_to_user_id', 'timestamp',\n",
       "       'source', 'text', 'retweeted_status_id', 'retweeted_status_user_id',\n",
       "       'retweeted_status_timestamp', 'expanded_urls', 'rating_numerator',\n",
       "       'rating_denominator', 'name', 'dog_stages'],\n",
       "      dtype='object')"
      ]
     },
     "execution_count": 48,
     "metadata": {},
     "output_type": "execute_result"
    }
   ],
   "source": [
    "archive_clean.columns"
   ]
  },
  {
   "cell_type": "markdown",
   "id": "55ab28b9",
   "metadata": {},
   "source": [
    "### Tidiness issue 1b: Form one Column "
   ]
  },
  {
   "cell_type": "markdown",
   "id": "8030b3f2",
   "metadata": {},
   "source": [
    "#### DEFINE:\n",
    "    Making p1, p2, p3 to form one prediction column based on the first true values of p1_dog, p2_dog and p3_dog. \n",
    "    Making P1_conf, p2_conf,P3_config to one column to align with the confidence level of the predictions."
   ]
  },
  {
   "cell_type": "markdown",
   "id": "e92725c1",
   "metadata": {},
   "source": [
    "#### CODE"
   ]
  },
  {
   "cell_type": "code",
   "execution_count": 49,
   "id": "d91f61b8",
   "metadata": {},
   "outputs": [],
   "source": [
    "#the first true prediction (p1, p2 or p3) and their aligned confidence level will be store in these lists\n",
    "dog_breed = []\n",
    "confidence_level = []\n",
    "\n",
    "#create a function with nested if to capture the dog breed and confidence level\n",
    "# from the first 'true' prediction\n",
    "def image(images_clean):\n",
    "    if images_clean['p1_dog'] == True:\n",
    "        dog_breed.append(images_clean['p1'])\n",
    "        confidence_level.append(images_clean['p1_conf'])\n",
    "    elif images_clean['p2_dog'] == True:\n",
    "        dog_breed.append(images_clean['p2'])\n",
    "        confidence_level.append(images_clean['p2_conf'])\n",
    "    elif images_clean['p3_dog'] == True:\n",
    "        dog_breed.append(images_clean['p3'])\n",
    "        confidence_level.append(images_clean['p3_conf'])\n",
    "    else:\n",
    "        dog_breed.append('Error')\n",
    "        confidence_level.append('Error')\n",
    "\n",
    "#series objects having index the image_clean column.        \n",
    "images_clean.apply(image, axis=1)\n",
    "\n",
    "#create new columns\n",
    "images_clean['dog_breed'] = dog_breed\n",
    "images_clean['confidence_level'] = confidence_level"
   ]
  },
  {
   "cell_type": "code",
   "execution_count": 50,
   "id": "2bbc2f52",
   "metadata": {},
   "outputs": [
    {
     "name": "stdout",
     "output_type": "stream",
     "text": [
      "<class 'pandas.core.frame.DataFrame'>\n",
      "Int64Index: 2009 entries, 0 to 2074\n",
      "Data columns (total 14 columns):\n",
      " #   Column            Non-Null Count  Dtype  \n",
      "---  ------            --------------  -----  \n",
      " 0   tweet_id          2009 non-null   int64  \n",
      " 1   jpg_url           2009 non-null   object \n",
      " 2   img_num           2009 non-null   int64  \n",
      " 3   p1                2009 non-null   object \n",
      " 4   p1_conf           2009 non-null   float64\n",
      " 5   p1_dog            2009 non-null   bool   \n",
      " 6   p2                2009 non-null   object \n",
      " 7   p2_conf           2009 non-null   float64\n",
      " 8   p2_dog            2009 non-null   bool   \n",
      " 9   p3                2009 non-null   object \n",
      " 10  p3_conf           2009 non-null   float64\n",
      " 11  p3_dog            2009 non-null   bool   \n",
      " 12  dog_breed         2009 non-null   object \n",
      " 13  confidence_level  2009 non-null   object \n",
      "dtypes: bool(3), float64(3), int64(2), object(6)\n",
      "memory usage: 194.2+ KB\n"
     ]
    }
   ],
   "source": [
    "#confirm new columns\n",
    "images_clean.info()"
   ]
  },
  {
   "cell_type": "code",
   "execution_count": 51,
   "id": "2b8c1a6c",
   "metadata": {
    "scrolled": false
   },
   "outputs": [],
   "source": [
    "#drop rows that has prediction_list 'error'\n",
    "images_clean = images_clean[images_clean['dog_breed'] != 'Error']\n"
   ]
  },
  {
   "cell_type": "markdown",
   "id": "803ca497",
   "metadata": {},
   "source": [
    "#### TEST"
   ]
  },
  {
   "cell_type": "code",
   "execution_count": 52,
   "id": "63f03102",
   "metadata": {},
   "outputs": [
    {
     "name": "stdout",
     "output_type": "stream",
     "text": [
      "<class 'pandas.core.frame.DataFrame'>\n",
      "Int64Index: 1691 entries, 0 to 2073\n",
      "Data columns (total 14 columns):\n",
      " #   Column            Non-Null Count  Dtype  \n",
      "---  ------            --------------  -----  \n",
      " 0   tweet_id          1691 non-null   int64  \n",
      " 1   jpg_url           1691 non-null   object \n",
      " 2   img_num           1691 non-null   int64  \n",
      " 3   p1                1691 non-null   object \n",
      " 4   p1_conf           1691 non-null   float64\n",
      " 5   p1_dog            1691 non-null   bool   \n",
      " 6   p2                1691 non-null   object \n",
      " 7   p2_conf           1691 non-null   float64\n",
      " 8   p2_dog            1691 non-null   bool   \n",
      " 9   p3                1691 non-null   object \n",
      " 10  p3_conf           1691 non-null   float64\n",
      " 11  p3_dog            1691 non-null   bool   \n",
      " 12  dog_breed         1691 non-null   object \n",
      " 13  confidence_level  1691 non-null   object \n",
      "dtypes: bool(3), float64(3), int64(2), object(6)\n",
      "memory usage: 163.5+ KB\n"
     ]
    }
   ],
   "source": [
    "#confirm \n",
    "images_clean.info()"
   ]
  },
  {
   "cell_type": "markdown",
   "id": "7c4131bf",
   "metadata": {},
   "source": [
    "### Quality issue 4: Dropping Columns not needed"
   ]
  },
  {
   "cell_type": "markdown",
   "id": "b21bd38e",
   "metadata": {},
   "source": [
    "#### DEFINE:Drop columns in all three tables that are not needed for analysis\n",
    "\n",
    "Since their are many columns to be dropped, i used the column drop difference parameter to retain the columns needed"
   ]
  },
  {
   "cell_type": "markdown",
   "id": "a11fafa3",
   "metadata": {},
   "source": [
    "#### CODE"
   ]
  },
  {
   "cell_type": "code",
   "execution_count": 53,
   "id": "737e8ecf",
   "metadata": {},
   "outputs": [],
   "source": [
    "# Drop columns for archive dataset and api data dataset\n",
    "\n",
    "archive_clean.drop(archive_clean.columns.difference(['tweet_id', 'timestamp', 'text','rating_numerator', 'rating_denominator', 'name','dog_stages']),axis = 1, inplace = True)\n",
    "api_data_clean.drop(api_data_clean.columns.difference(['tweet_id', 'favorite_count', 'retweet_count']),axis = 1, inplace = True)\n",
    "images_clean.drop(images_clean.columns.difference(['tweet_id', 'jpg_url', 'dog_breed', 'confidence_level']),axis = 1, inplace = True)"
   ]
  },
  {
   "cell_type": "markdown",
   "id": "395014a8",
   "metadata": {},
   "source": [
    "#### TEST"
   ]
  },
  {
   "cell_type": "code",
   "execution_count": 54,
   "id": "7ee7e4cb",
   "metadata": {},
   "outputs": [
    {
     "name": "stdout",
     "output_type": "stream",
     "text": [
      "<class 'pandas.core.frame.DataFrame'>\n",
      "Int64Index: 2175 entries, 0 to 2355\n",
      "Data columns (total 7 columns):\n",
      " #   Column              Non-Null Count  Dtype \n",
      "---  ------              --------------  ----- \n",
      " 0   tweet_id            2175 non-null   int64 \n",
      " 1   timestamp           2175 non-null   object\n",
      " 2   text                2175 non-null   object\n",
      " 3   rating_numerator    2175 non-null   int64 \n",
      " 4   rating_denominator  2175 non-null   int64 \n",
      " 5   name                2175 non-null   object\n",
      " 6   dog_stages          344 non-null    object\n",
      "dtypes: int64(3), object(4)\n",
      "memory usage: 135.9+ KB\n",
      "None\n",
      "<class 'pandas.core.frame.DataFrame'>\n",
      "RangeIndex: 2325 entries, 0 to 2324\n",
      "Data columns (total 3 columns):\n",
      " #   Column          Non-Null Count  Dtype\n",
      "---  ------          --------------  -----\n",
      " 0   tweet_id        2325 non-null   int64\n",
      " 1   retweet_count   2325 non-null   int64\n",
      " 2   favorite_count  2325 non-null   int64\n",
      "dtypes: int64(3)\n",
      "memory usage: 54.6 KB\n",
      "None\n",
      "<class 'pandas.core.frame.DataFrame'>\n",
      "Int64Index: 1691 entries, 0 to 2073\n",
      "Data columns (total 4 columns):\n",
      " #   Column            Non-Null Count  Dtype \n",
      "---  ------            --------------  ----- \n",
      " 0   tweet_id          1691 non-null   int64 \n",
      " 1   jpg_url           1691 non-null   object\n",
      " 2   dog_breed         1691 non-null   object\n",
      " 3   confidence_level  1691 non-null   object\n",
      "dtypes: int64(1), object(3)\n",
      "memory usage: 66.1+ KB\n",
      "None\n"
     ]
    }
   ],
   "source": [
    "print(archive_clean.info())\n",
    "print(api_data_clean.info())\n",
    "print(images_clean.info())"
   ]
  },
  {
   "cell_type": "markdown",
   "id": "61635a08",
   "metadata": {},
   "source": [
    "### Tidiness issue 2: Joining the 3 datasets"
   ]
  },
  {
   "cell_type": "markdown",
   "id": "6dd8f4b6",
   "metadata": {},
   "source": [
    "#### DEFINE\n",
    "Joining the three dataset using merge() function"
   ]
  },
  {
   "cell_type": "markdown",
   "id": "2ba18605",
   "metadata": {},
   "source": [
    "#### CODE"
   ]
  },
  {
   "cell_type": "code",
   "execution_count": 55,
   "id": "88ee1305",
   "metadata": {},
   "outputs": [],
   "source": [
    "#Merge archive dataset to images dataset\n",
    "merged = pd.merge(archive_clean, \n",
    "                      images_clean, \n",
    "                      how = 'left', on = ['tweet_id'])\n"
   ]
  },
  {
   "cell_type": "code",
   "execution_count": 56,
   "id": "28e958a5",
   "metadata": {},
   "outputs": [],
   "source": [
    "#Merge with api data dataset\n",
    "twitter = pd.merge(merged, api_data_clean, \n",
    "                      how = 'left', on = ['tweet_id'])"
   ]
  },
  {
   "cell_type": "code",
   "execution_count": 57,
   "id": "c38783d6",
   "metadata": {
    "scrolled": false
   },
   "outputs": [
    {
     "name": "stdout",
     "output_type": "stream",
     "text": [
      "<class 'pandas.core.frame.DataFrame'>\n",
      "Int64Index: 2175 entries, 0 to 2174\n",
      "Data columns (total 12 columns):\n",
      " #   Column              Non-Null Count  Dtype  \n",
      "---  ------              --------------  -----  \n",
      " 0   tweet_id            2175 non-null   int64  \n",
      " 1   timestamp           2175 non-null   object \n",
      " 2   text                2175 non-null   object \n",
      " 3   rating_numerator    2175 non-null   int64  \n",
      " 4   rating_denominator  2175 non-null   int64  \n",
      " 5   name                2175 non-null   object \n",
      " 6   dog_stages          344 non-null    object \n",
      " 7   jpg_url             1626 non-null   object \n",
      " 8   dog_breed           1626 non-null   object \n",
      " 9   confidence_level    1626 non-null   object \n",
      " 10  retweet_count       2167 non-null   float64\n",
      " 11  favorite_count      2167 non-null   float64\n",
      "dtypes: float64(2), int64(3), object(7)\n",
      "memory usage: 220.9+ KB\n"
     ]
    }
   ],
   "source": [
    "#confirm\n",
    "twitter.info()"
   ]
  },
  {
   "cell_type": "code",
   "execution_count": 58,
   "id": "4b88afb6",
   "metadata": {},
   "outputs": [],
   "source": [
    "#keep rows that have picture (jpg_url) and retweet counts\n",
    "twitter = twitter[twitter['jpg_url'].notnull()]\n",
    "twitter = twitter[twitter['retweet_count'].notnull()]"
   ]
  },
  {
   "cell_type": "markdown",
   "id": "3fd2bda6",
   "metadata": {},
   "source": [
    "#### TEST"
   ]
  },
  {
   "cell_type": "code",
   "execution_count": 59,
   "id": "d7da589f",
   "metadata": {},
   "outputs": [
    {
     "data": {
      "text/html": [
       "<div>\n",
       "<style scoped>\n",
       "    .dataframe tbody tr th:only-of-type {\n",
       "        vertical-align: middle;\n",
       "    }\n",
       "\n",
       "    .dataframe tbody tr th {\n",
       "        vertical-align: top;\n",
       "    }\n",
       "\n",
       "    .dataframe thead th {\n",
       "        text-align: right;\n",
       "    }\n",
       "</style>\n",
       "<table border=\"1\" class=\"dataframe\">\n",
       "  <thead>\n",
       "    <tr style=\"text-align: right;\">\n",
       "      <th></th>\n",
       "      <th>tweet_id</th>\n",
       "      <th>timestamp</th>\n",
       "      <th>text</th>\n",
       "      <th>rating_numerator</th>\n",
       "      <th>rating_denominator</th>\n",
       "      <th>name</th>\n",
       "      <th>dog_stages</th>\n",
       "      <th>jpg_url</th>\n",
       "      <th>dog_breed</th>\n",
       "      <th>confidence_level</th>\n",
       "      <th>retweet_count</th>\n",
       "      <th>favorite_count</th>\n",
       "    </tr>\n",
       "  </thead>\n",
       "  <tbody>\n",
       "    <tr>\n",
       "      <th>1</th>\n",
       "      <td>892177421306343426</td>\n",
       "      <td>2017-08-01 00:17:27 +0000</td>\n",
       "      <td>This is Tilly. She's just checking pup on you....</td>\n",
       "      <td>13</td>\n",
       "      <td>10</td>\n",
       "      <td>Tilly</td>\n",
       "      <td>NaN</td>\n",
       "      <td>https://pbs.twimg.com/media/DGGmoV4XsAAUL6n.jpg</td>\n",
       "      <td>Chihuahua</td>\n",
       "      <td>0.323581</td>\n",
       "      <td>5174.0</td>\n",
       "      <td>28392.0</td>\n",
       "    </tr>\n",
       "    <tr>\n",
       "      <th>2</th>\n",
       "      <td>891815181378084864</td>\n",
       "      <td>2017-07-31 00:18:03 +0000</td>\n",
       "      <td>This is Archie. He is a rare Norwegian Pouncin...</td>\n",
       "      <td>12</td>\n",
       "      <td>10</td>\n",
       "      <td>Archie</td>\n",
       "      <td>NaN</td>\n",
       "      <td>https://pbs.twimg.com/media/DGBdLU1WsAANxJ9.jpg</td>\n",
       "      <td>Chihuahua</td>\n",
       "      <td>0.716012</td>\n",
       "      <td>3415.0</td>\n",
       "      <td>21337.0</td>\n",
       "    </tr>\n",
       "    <tr>\n",
       "      <th>3</th>\n",
       "      <td>891689557279858688</td>\n",
       "      <td>2017-07-30 15:58:51 +0000</td>\n",
       "      <td>This is Darla. She commenced a snooze mid meal...</td>\n",
       "      <td>13</td>\n",
       "      <td>10</td>\n",
       "      <td>Darla</td>\n",
       "      <td>NaN</td>\n",
       "      <td>https://pbs.twimg.com/media/DF_q7IAWsAEuuN8.jpg</td>\n",
       "      <td>Labrador_retriever</td>\n",
       "      <td>0.168086</td>\n",
       "      <td>7078.0</td>\n",
       "      <td>35820.0</td>\n",
       "    </tr>\n",
       "    <tr>\n",
       "      <th>4</th>\n",
       "      <td>891327558926688256</td>\n",
       "      <td>2017-07-29 16:00:24 +0000</td>\n",
       "      <td>This is Franklin. He would like you to stop ca...</td>\n",
       "      <td>12</td>\n",
       "      <td>10</td>\n",
       "      <td>Franklin</td>\n",
       "      <td>NaN</td>\n",
       "      <td>https://pbs.twimg.com/media/DF6hr6BUMAAzZgT.jpg</td>\n",
       "      <td>basset</td>\n",
       "      <td>0.555712</td>\n",
       "      <td>7584.0</td>\n",
       "      <td>34259.0</td>\n",
       "    </tr>\n",
       "    <tr>\n",
       "      <th>5</th>\n",
       "      <td>891087950875897856</td>\n",
       "      <td>2017-07-29 00:08:17 +0000</td>\n",
       "      <td>Here we have a majestic great white breaching ...</td>\n",
       "      <td>13</td>\n",
       "      <td>10</td>\n",
       "      <td>None</td>\n",
       "      <td>NaN</td>\n",
       "      <td>https://pbs.twimg.com/media/DF3HwyEWsAABqE6.jpg</td>\n",
       "      <td>Chesapeake_Bay_retriever</td>\n",
       "      <td>0.425595</td>\n",
       "      <td>2544.0</td>\n",
       "      <td>17237.0</td>\n",
       "    </tr>\n",
       "  </tbody>\n",
       "</table>\n",
       "</div>"
      ],
      "text/plain": [
       "             tweet_id                  timestamp  \\\n",
       "1  892177421306343426  2017-08-01 00:17:27 +0000   \n",
       "2  891815181378084864  2017-07-31 00:18:03 +0000   \n",
       "3  891689557279858688  2017-07-30 15:58:51 +0000   \n",
       "4  891327558926688256  2017-07-29 16:00:24 +0000   \n",
       "5  891087950875897856  2017-07-29 00:08:17 +0000   \n",
       "\n",
       "                                                text  rating_numerator  \\\n",
       "1  This is Tilly. She's just checking pup on you....                13   \n",
       "2  This is Archie. He is a rare Norwegian Pouncin...                12   \n",
       "3  This is Darla. She commenced a snooze mid meal...                13   \n",
       "4  This is Franklin. He would like you to stop ca...                12   \n",
       "5  Here we have a majestic great white breaching ...                13   \n",
       "\n",
       "   rating_denominator      name dog_stages  \\\n",
       "1                  10     Tilly        NaN   \n",
       "2                  10    Archie        NaN   \n",
       "3                  10     Darla        NaN   \n",
       "4                  10  Franklin        NaN   \n",
       "5                  10      None        NaN   \n",
       "\n",
       "                                           jpg_url                 dog_breed  \\\n",
       "1  https://pbs.twimg.com/media/DGGmoV4XsAAUL6n.jpg                 Chihuahua   \n",
       "2  https://pbs.twimg.com/media/DGBdLU1WsAANxJ9.jpg                 Chihuahua   \n",
       "3  https://pbs.twimg.com/media/DF_q7IAWsAEuuN8.jpg        Labrador_retriever   \n",
       "4  https://pbs.twimg.com/media/DF6hr6BUMAAzZgT.jpg                    basset   \n",
       "5  https://pbs.twimg.com/media/DF3HwyEWsAABqE6.jpg  Chesapeake_Bay_retriever   \n",
       "\n",
       "  confidence_level  retweet_count  favorite_count  \n",
       "1         0.323581         5174.0         28392.0  \n",
       "2         0.716012         3415.0         21337.0  \n",
       "3         0.168086         7078.0         35820.0  \n",
       "4         0.555712         7584.0         34259.0  \n",
       "5         0.425595         2544.0         17237.0  "
      ]
     },
     "execution_count": 59,
     "metadata": {},
     "output_type": "execute_result"
    }
   ],
   "source": [
    "twitter.head()"
   ]
  },
  {
   "cell_type": "code",
   "execution_count": 60,
   "id": "7170bf66",
   "metadata": {
    "scrolled": true
   },
   "outputs": [
    {
     "name": "stdout",
     "output_type": "stream",
     "text": [
      "<class 'pandas.core.frame.DataFrame'>\n",
      "Int64Index: 1619 entries, 1 to 2174\n",
      "Data columns (total 12 columns):\n",
      " #   Column              Non-Null Count  Dtype  \n",
      "---  ------              --------------  -----  \n",
      " 0   tweet_id            1619 non-null   int64  \n",
      " 1   timestamp           1619 non-null   object \n",
      " 2   text                1619 non-null   object \n",
      " 3   rating_numerator    1619 non-null   int64  \n",
      " 4   rating_denominator  1619 non-null   int64  \n",
      " 5   name                1619 non-null   object \n",
      " 6   dog_stages          251 non-null    object \n",
      " 7   jpg_url             1619 non-null   object \n",
      " 8   dog_breed           1619 non-null   object \n",
      " 9   confidence_level    1619 non-null   object \n",
      " 10  retweet_count       1619 non-null   float64\n",
      " 11  favorite_count      1619 non-null   float64\n",
      "dtypes: float64(2), int64(3), object(7)\n",
      "memory usage: 164.4+ KB\n"
     ]
    }
   ],
   "source": [
    "#confirm\n",
    "twitter.info()"
   ]
  },
  {
   "cell_type": "markdown",
   "id": "46854c1b",
   "metadata": {},
   "source": [
    "### Quality issue 5: Datatype missmatch"
   ]
  },
  {
   "cell_type": "markdown",
   "id": "c47a93c9",
   "metadata": {},
   "source": [
    "#### DEFINE:\n",
    "Change Timestamp from object to DateTime and timezone-aware then split it into year, month and day columns and drop the timestamp column"
   ]
  },
  {
   "cell_type": "markdown",
   "id": "a08c68b7",
   "metadata": {},
   "source": [
    "#### CODE"
   ]
  },
  {
   "cell_type": "code",
   "execution_count": 61,
   "id": "c189fb68",
   "metadata": {},
   "outputs": [],
   "source": [
    "#Change datatype\n",
    "twitter.timestamp = pd.to_datetime(twitter.timestamp).astype('datetime64[ns, UTC]')"
   ]
  },
  {
   "cell_type": "markdown",
   "id": "94f6db5e",
   "metadata": {},
   "source": [
    "#### TEST"
   ]
  },
  {
   "cell_type": "code",
   "execution_count": 62,
   "id": "fb251c64",
   "metadata": {},
   "outputs": [
    {
     "data": {
      "text/plain": [
       "datetime64[ns, UTC]"
      ]
     },
     "execution_count": 62,
     "metadata": {},
     "output_type": "execute_result"
    }
   ],
   "source": [
    "twitter.timestamp.dtype"
   ]
  },
  {
   "cell_type": "markdown",
   "id": "fea47a4e",
   "metadata": {},
   "source": [
    "#### CODE"
   ]
  },
  {
   "cell_type": "code",
   "execution_count": 63,
   "id": "5f18fcea",
   "metadata": {},
   "outputs": [],
   "source": [
    "#extract year, month and day to new columns\n",
    "twitter['year'] = twitter['timestamp'].dt.year\n",
    "twitter['month'] = twitter['timestamp'].dt.month\n",
    "twitter['day'] = twitter['timestamp'].dt.day\n",
    "\n",
    "#Finally drop timestamp column\n",
    "twitter = twitter.drop(columns='timestamp', axis=1)"
   ]
  },
  {
   "cell_type": "markdown",
   "id": "9a51ee56",
   "metadata": {},
   "source": [
    "#### TEST"
   ]
  },
  {
   "cell_type": "code",
   "execution_count": 64,
   "id": "960e120e",
   "metadata": {},
   "outputs": [
    {
     "data": {
      "text/plain": [
       "Index(['tweet_id', 'text', 'rating_numerator', 'rating_denominator', 'name',\n",
       "       'dog_stages', 'jpg_url', 'dog_breed', 'confidence_level',\n",
       "       'retweet_count', 'favorite_count', 'year', 'month', 'day'],\n",
       "      dtype='object')"
      ]
     },
     "execution_count": 64,
     "metadata": {},
     "output_type": "execute_result"
    }
   ],
   "source": [
    "twitter.columns"
   ]
  },
  {
   "cell_type": "markdown",
   "id": "8c331554",
   "metadata": {},
   "source": [
    "### Quality issue 6: Column value standardization "
   ]
  },
  {
   "cell_type": "markdown",
   "id": "f735aabf",
   "metadata": {},
   "source": [
    "#### DEFINE: Make Dog Breed and Name values consistent by making them all start with Capital Letters "
   ]
  },
  {
   "cell_type": "markdown",
   "id": "edca6d5c",
   "metadata": {},
   "source": [
    "#### CODE"
   ]
  },
  {
   "cell_type": "code",
   "execution_count": 65,
   "id": "261ca933",
   "metadata": {},
   "outputs": [],
   "source": [
    "twitter['dog_breed'] = twitter.dog_breed.str.capitalize()\n",
    "twitter['name'] = twitter.name.str.capitalize()"
   ]
  },
  {
   "cell_type": "markdown",
   "id": "e95ddf38",
   "metadata": {},
   "source": [
    "#### TEST "
   ]
  },
  {
   "cell_type": "code",
   "execution_count": 66,
   "id": "e746e04f",
   "metadata": {
    "scrolled": true
   },
   "outputs": [
    {
     "name": "stdout",
     "output_type": "stream",
     "text": [
      "1             Chihuahua\n",
      "2             Chihuahua\n",
      "3    Labrador_retriever\n",
      "Name: dog_breed, dtype: object\n",
      "699     Glenn\n",
      "1469    Buddy\n",
      "2155     None\n",
      "Name: name, dtype: object\n"
     ]
    }
   ],
   "source": [
    "print(twitter.dog_breed.head(3))\n",
    "print(twitter.name.sample(3))"
   ]
  },
  {
   "cell_type": "markdown",
   "id": "40d94e69",
   "metadata": {},
   "source": [
    "### Quality Issue 7: Removing the extra url in text column"
   ]
  },
  {
   "cell_type": "markdown",
   "id": "12dcc616",
   "metadata": {},
   "source": [
    "#### DEFINE:\n",
    "Removing the extra urls in the text column for easy readability of the text"
   ]
  },
  {
   "cell_type": "markdown",
   "id": "c73ef023",
   "metadata": {},
   "source": [
    "#### CODE"
   ]
  },
  {
   "cell_type": "code",
   "execution_count": 67,
   "id": "f0306616",
   "metadata": {},
   "outputs": [],
   "source": [
    "twitter['text'] = twitter['text'].replace(r'https://t\\.co/[a-zA-Z0-9-.]+', '', regex = True)"
   ]
  },
  {
   "cell_type": "markdown",
   "id": "97d31326",
   "metadata": {},
   "source": [
    "#### TEST"
   ]
  },
  {
   "cell_type": "code",
   "execution_count": 68,
   "id": "c54ca043",
   "metadata": {},
   "outputs": [
    {
     "data": {
      "text/plain": [
       "1       This is Tilly. She's just checking pup on you....\n",
       "2       This is Archie. He is a rare Norwegian Pouncin...\n",
       "3       This is Darla. She commenced a snooze mid meal...\n",
       "4       This is Franklin. He would like you to stop ca...\n",
       "5       Here we have a majestic great white breaching ...\n",
       "                              ...                        \n",
       "2170    Here we have a 1949 1st generation vulpix. Enj...\n",
       "2171    This is a purebred Piers Morgan. Loves to Netf...\n",
       "2172    Here is a very happy pup. Big fan of well-main...\n",
       "2173    This is a western brown Mitsubishi terrier. Up...\n",
       "2174    Here we have a Japanese Irish Setter. Lost eye...\n",
       "Name: text, Length: 1619, dtype: object"
      ]
     },
     "execution_count": 68,
     "metadata": {},
     "output_type": "execute_result"
    }
   ],
   "source": [
    "twitter['text']"
   ]
  },
  {
   "cell_type": "markdown",
   "id": "c0e4a37e",
   "metadata": {},
   "source": [
    "### Quality issue 8: Standardizing the ratings"
   ]
  },
  {
   "cell_type": "markdown",
   "id": "07d19d72",
   "metadata": {},
   "source": [
    "#### DEFINE: A) Rating Denominator\n",
    "\n",
    "The Standardized denominator is 10, i'll access why some are not 10 and rectify. For the numerator, i'll rectify the extreame values"
   ]
  },
  {
   "cell_type": "markdown",
   "id": "a792b385",
   "metadata": {},
   "source": [
    "#### CODE "
   ]
  },
  {
   "cell_type": "code",
   "execution_count": 69,
   "id": "c4a431d7",
   "metadata": {},
   "outputs": [
    {
     "data": {
      "text/html": [
       "<div>\n",
       "<style scoped>\n",
       "    .dataframe tbody tr th:only-of-type {\n",
       "        vertical-align: middle;\n",
       "    }\n",
       "\n",
       "    .dataframe tbody tr th {\n",
       "        vertical-align: top;\n",
       "    }\n",
       "\n",
       "    .dataframe thead th {\n",
       "        text-align: right;\n",
       "    }\n",
       "</style>\n",
       "<table border=\"1\" class=\"dataframe\">\n",
       "  <thead>\n",
       "    <tr style=\"text-align: right;\">\n",
       "      <th></th>\n",
       "      <th>tweet_id</th>\n",
       "      <th>text</th>\n",
       "      <th>rating_numerator</th>\n",
       "      <th>rating_denominator</th>\n",
       "    </tr>\n",
       "  </thead>\n",
       "  <tbody>\n",
       "    <tr>\n",
       "      <th>363</th>\n",
       "      <td>820690176645140481</td>\n",
       "      <td>The floofs have been released I repeat the floofs have been released. 84/70</td>\n",
       "      <td>84</td>\n",
       "      <td>70</td>\n",
       "    </tr>\n",
       "    <tr>\n",
       "      <th>429</th>\n",
       "      <td>810984652412424192</td>\n",
       "      <td>Meet Sam. She smiles 24/7 &amp;amp; secretly aspires to be a reindeer. \\nKeep Sam smiling by clicking and sharing this link:\\n</td>\n",
       "      <td>24</td>\n",
       "      <td>7</td>\n",
       "    </tr>\n",
       "    <tr>\n",
       "      <th>733</th>\n",
       "      <td>758467244762497024</td>\n",
       "      <td>Why does this never happen at my front door... 165/150</td>\n",
       "      <td>165</td>\n",
       "      <td>150</td>\n",
       "    </tr>\n",
       "    <tr>\n",
       "      <th>890</th>\n",
       "      <td>740373189193256964</td>\n",
       "      <td>After so many requests, this is Bretagne. She was the last surviving 9/11 search dog, and our second ever 14/10. RIP</td>\n",
       "      <td>9</td>\n",
       "      <td>11</td>\n",
       "    </tr>\n",
       "    <tr>\n",
       "      <th>987</th>\n",
       "      <td>722974582966214656</td>\n",
       "      <td>Happy 4/20 from the squad! 13/10 for all</td>\n",
       "      <td>4</td>\n",
       "      <td>20</td>\n",
       "    </tr>\n",
       "    <tr>\n",
       "      <th>1024</th>\n",
       "      <td>716439118184652801</td>\n",
       "      <td>This is Bluebert. He just saw that both #FinalFur match ups are split 50/50. Amazed af. 11/10</td>\n",
       "      <td>50</td>\n",
       "      <td>50</td>\n",
       "    </tr>\n",
       "    <tr>\n",
       "      <th>1050</th>\n",
       "      <td>713900603437621249</td>\n",
       "      <td>Happy Saturday here's 9 puppers on a bench. 99/90 good work everybody</td>\n",
       "      <td>99</td>\n",
       "      <td>90</td>\n",
       "    </tr>\n",
       "    <tr>\n",
       "      <th>1075</th>\n",
       "      <td>710658690886586372</td>\n",
       "      <td>Here's a brigade of puppers. All look very prepared for whatever happens next. 80/80</td>\n",
       "      <td>80</td>\n",
       "      <td>80</td>\n",
       "    </tr>\n",
       "    <tr>\n",
       "      <th>1095</th>\n",
       "      <td>709198395643068416</td>\n",
       "      <td>From left to right:\\nCletus, Jerome, Alejandro, Burp, &amp;amp; Titson\\nNone know where camera is. 45/50 would hug all at once</td>\n",
       "      <td>45</td>\n",
       "      <td>50</td>\n",
       "    </tr>\n",
       "    <tr>\n",
       "      <th>1172</th>\n",
       "      <td>704054845121142784</td>\n",
       "      <td>Here is a whole flock of puppers.  60/50 I'll take the lot</td>\n",
       "      <td>60</td>\n",
       "      <td>50</td>\n",
       "    </tr>\n",
       "    <tr>\n",
       "      <th>1254</th>\n",
       "      <td>697463031882764288</td>\n",
       "      <td>Happy Wednesday here's a bucket of pups. 44/40 would pet all at once</td>\n",
       "      <td>44</td>\n",
       "      <td>40</td>\n",
       "    </tr>\n",
       "    <tr>\n",
       "      <th>1455</th>\n",
       "      <td>684225744407494656</td>\n",
       "      <td>Two sneaky puppers were not initially seen, moving the rating to 143/130. Please forgive us. Thank you</td>\n",
       "      <td>143</td>\n",
       "      <td>130</td>\n",
       "    </tr>\n",
       "    <tr>\n",
       "      <th>1456</th>\n",
       "      <td>684222868335505415</td>\n",
       "      <td>Someone help the girl is being mugged. Several are distracting her while two steal her shoes. Clever puppers 121/110</td>\n",
       "      <td>121</td>\n",
       "      <td>110</td>\n",
       "    </tr>\n",
       "    <tr>\n",
       "      <th>1483</th>\n",
       "      <td>682962037429899265</td>\n",
       "      <td>This is Darrel. He just robbed a 7/11 and is in a high speed police chase. Was just spotted by the helicopter 10/10</td>\n",
       "      <td>7</td>\n",
       "      <td>11</td>\n",
       "    </tr>\n",
       "    <tr>\n",
       "      <th>1600</th>\n",
       "      <td>677716515794329600</td>\n",
       "      <td>IT'S PUPPERGEDDON. Total of 144/120 ...I think</td>\n",
       "      <td>144</td>\n",
       "      <td>120</td>\n",
       "    </tr>\n",
       "    <tr>\n",
       "      <th>1664</th>\n",
       "      <td>675853064436391936</td>\n",
       "      <td>Here we have an entire platoon of puppers. Total score: 88/80 would pet all at once</td>\n",
       "      <td>88</td>\n",
       "      <td>80</td>\n",
       "    </tr>\n",
       "    <tr>\n",
       "      <th>2154</th>\n",
       "      <td>666287406224695296</td>\n",
       "      <td>This is an Albanian 3 1/2 legged  Episcopalian. Loves well-polished hardwood flooring. Penis on the collar. 9/10</td>\n",
       "      <td>1</td>\n",
       "      <td>2</td>\n",
       "    </tr>\n",
       "  </tbody>\n",
       "</table>\n",
       "</div>"
      ],
      "text/plain": [
       "                tweet_id  \\\n",
       "363   820690176645140481   \n",
       "429   810984652412424192   \n",
       "733   758467244762497024   \n",
       "890   740373189193256964   \n",
       "987   722974582966214656   \n",
       "1024  716439118184652801   \n",
       "1050  713900603437621249   \n",
       "1075  710658690886586372   \n",
       "1095  709198395643068416   \n",
       "1172  704054845121142784   \n",
       "1254  697463031882764288   \n",
       "1455  684225744407494656   \n",
       "1456  684222868335505415   \n",
       "1483  682962037429899265   \n",
       "1600  677716515794329600   \n",
       "1664  675853064436391936   \n",
       "2154  666287406224695296   \n",
       "\n",
       "                                                                                                                             text  \\\n",
       "363                                                  The floofs have been released I repeat the floofs have been released. 84/70    \n",
       "429   Meet Sam. She smiles 24/7 &amp; secretly aspires to be a reindeer. \\nKeep Sam smiling by clicking and sharing this link:\\n    \n",
       "733                                                                       Why does this never happen at my front door... 165/150    \n",
       "890         After so many requests, this is Bretagne. She was the last surviving 9/11 search dog, and our second ever 14/10. RIP    \n",
       "987                                                                                     Happy 4/20 from the squad! 13/10 for all    \n",
       "1024                               This is Bluebert. He just saw that both #FinalFur match ups are split 50/50. Amazed af. 11/10    \n",
       "1050                                                       Happy Saturday here's 9 puppers on a bench. 99/90 good work everybody    \n",
       "1075                                        Here's a brigade of puppers. All look very prepared for whatever happens next. 80/80    \n",
       "1095  From left to right:\\nCletus, Jerome, Alejandro, Burp, &amp; Titson\\nNone know where camera is. 45/50 would hug all at once    \n",
       "1172                                                                  Here is a whole flock of puppers.  60/50 I'll take the lot    \n",
       "1254                                                        Happy Wednesday here's a bucket of pups. 44/40 would pet all at once    \n",
       "1455                      Two sneaky puppers were not initially seen, moving the rating to 143/130. Please forgive us. Thank you    \n",
       "1456        Someone help the girl is being mugged. Several are distracting her while two steal her shoes. Clever puppers 121/110    \n",
       "1483         This is Darrel. He just robbed a 7/11 and is in a high speed police chase. Was just spotted by the helicopter 10/10    \n",
       "1600                                                                              IT'S PUPPERGEDDON. Total of 144/120 ...I think    \n",
       "1664                                         Here we have an entire platoon of puppers. Total score: 88/80 would pet all at once    \n",
       "2154            This is an Albanian 3 1/2 legged  Episcopalian. Loves well-polished hardwood flooring. Penis on the collar. 9/10    \n",
       "\n",
       "      rating_numerator  rating_denominator  \n",
       "363                 84                  70  \n",
       "429                 24                   7  \n",
       "733                165                 150  \n",
       "890                  9                  11  \n",
       "987                  4                  20  \n",
       "1024                50                  50  \n",
       "1050                99                  90  \n",
       "1075                80                  80  \n",
       "1095                45                  50  \n",
       "1172                60                  50  \n",
       "1254                44                  40  \n",
       "1455               143                 130  \n",
       "1456               121                 110  \n",
       "1483                 7                  11  \n",
       "1600               144                 120  \n",
       "1664                88                  80  \n",
       "2154                 1                   2  "
      ]
     },
     "execution_count": 69,
     "metadata": {},
     "output_type": "execute_result"
    }
   ],
   "source": [
    "pd.options.display.max_colwidth = 1000\n",
    "trial = twitter.query('rating_denominator != 10')\n",
    "trial[['tweet_id','text','rating_numerator','rating_denominator']]"
   ]
  },
  {
   "cell_type": "markdown",
   "id": "e47e9a92",
   "metadata": {},
   "source": [
    "    index 890, 987, 1024, 1483 and 2154 have actual denominator as 10, but was analyzed incorrectly due to the presence of\n",
    "    another fraction in the text that was picked first. The numerator is also wrongly indicated. \n",
    "\n",
    "    index 363, 429 , 733 are not rating tweets\n",
    "\n",
    "    These tweets with denominator not equal to 10 are multiple dogs. Example index 1095 the rating is the sum of 5 dogs,\n",
    "    index 1050 is of 9 dogs, index 1664 is of 8 dogs etc, which will be divided and rectified. index 1075 ,1172 , 1254, \n",
    "    1455, 1456, 1600 are also of multiple dogs."
   ]
  },
  {
   "cell_type": "code",
   "execution_count": 70,
   "id": "c9bf156b",
   "metadata": {},
   "outputs": [],
   "source": [
    "# Adjusting denominator\n",
    "twitter.loc[twitter.tweet_id == 740373189193256964, ['rating_denominator']] = 10\n",
    "twitter.loc[twitter.tweet_id == 722974582966214656, ['rating_denominator']] = 10\n",
    "twitter.loc[twitter.tweet_id == 716439118184652801, ['rating_denominator']] = 10\n",
    "twitter.loc[twitter.tweet_id == 682962037429899265, ['rating_denominator']] = 10\n",
    "twitter.loc[twitter.tweet_id == 666287406224695296, ['rating_denominator']] = 10\n",
    "twitter.loc[twitter.tweet_id == 709198395643068416, ['rating_denominator']] = 10\n",
    "twitter.loc[twitter.tweet_id == 713900603437621249, ['rating_denominator']] = 10\n",
    "twitter.loc[twitter.tweet_id == 675853064436391936, ['rating_denominator']] = 10\n",
    "twitter.loc[twitter.tweet_id == 710658690886586372, ['rating_denominator']] = 10\n",
    "twitter.loc[twitter.tweet_id == 704054845121142784, ['rating_denominator']] = 10\n",
    "twitter.loc[twitter.tweet_id == 697463031882764288, ['rating_denominator']] = 10\n",
    "twitter.loc[twitter.tweet_id == 684225744407494656, ['rating_denominator']] = 10\n",
    "twitter.loc[twitter.tweet_id == 684222868335505415, ['rating_denominator']] = 10\n",
    "twitter.loc[twitter.tweet_id == 677716515794329600, ['rating_denominator']] = 10\n"
   ]
  },
  {
   "cell_type": "code",
   "execution_count": 71,
   "id": "040cdadd",
   "metadata": {},
   "outputs": [],
   "source": [
    "# Drop non - rating tweets\n",
    "twitter.drop(twitter[twitter['tweet_id'] == 820690176645140481].index, inplace = True)\n",
    "twitter.drop(twitter[twitter['tweet_id'] == 810984652412424192].index, inplace = True)\n",
    "twitter.drop(twitter[twitter['tweet_id'] == 758467244762497024].index, inplace = True)"
   ]
  },
  {
   "cell_type": "code",
   "execution_count": 72,
   "id": "60fb9132",
   "metadata": {},
   "outputs": [],
   "source": [
    "# Adjusting numerator\n",
    "twitter.loc[twitter.tweet_id == 740373189193256964, ['rating_numerator']] = 14\n",
    "twitter.loc[twitter.tweet_id == 722974582966214656, ['rating_numerator']] = 13\n",
    "twitter.loc[twitter.tweet_id == 716439118184652801, ['rating_numerator']] = 11\n",
    "twitter.loc[twitter.tweet_id == 682962037429899265, ['rating_numerator']] = 10\n",
    "twitter.loc[twitter.tweet_id == 666287406224695296, ['rating_numerator']] = 9\n",
    "twitter.loc[twitter.tweet_id == 709198395643068416, ['rating_numerator']] = 9\n",
    "twitter.loc[twitter.tweet_id == 713900603437621249, ['rating_numerator']] = 11\n",
    "twitter.loc[twitter.tweet_id == 675853064436391936, ['rating_numerator']] = 11\n",
    "twitter.loc[twitter.tweet_id == 710658690886586372, ['rating_numerator']] = 10\n",
    "twitter.loc[twitter.tweet_id == 704054845121142784, ['rating_numerator']] = 12\n",
    "twitter.loc[twitter.tweet_id == 697463031882764288, ['rating_numerator']] = 11\n",
    "twitter.loc[twitter.tweet_id == 684225744407494656, ['rating_numerator']] = 11\n",
    "twitter.loc[twitter.tweet_id == 684222868335505415, ['rating_numerator']] = 11\n",
    "twitter.loc[twitter.tweet_id == 677716515794329600, ['rating_numerator']] = 12\n",
    "\n"
   ]
  },
  {
   "cell_type": "markdown",
   "id": "e0f47f31",
   "metadata": {},
   "source": [
    "#### TEST"
   ]
  },
  {
   "cell_type": "code",
   "execution_count": 73,
   "id": "bc0eabba",
   "metadata": {},
   "outputs": [
    {
     "data": {
      "text/plain": [
       "10    1616\n",
       "Name: rating_denominator, dtype: int64"
      ]
     },
     "execution_count": 73,
     "metadata": {},
     "output_type": "execute_result"
    }
   ],
   "source": [
    "twitter.rating_denominator.value_counts().sort_values()"
   ]
  },
  {
   "cell_type": "markdown",
   "id": "8adb6450",
   "metadata": {},
   "source": [
    "#### DEFINE: B) Rating Numerator"
   ]
  },
  {
   "cell_type": "markdown",
   "id": "6befd40b",
   "metadata": {},
   "source": [
    "#### CODE"
   ]
  },
  {
   "cell_type": "code",
   "execution_count": 74,
   "id": "d2387c18",
   "metadata": {
    "scrolled": true
   },
   "outputs": [
    {
     "data": {
      "text/plain": [
       "75      1\n",
       "0       1\n",
       "27      1\n",
       "26      1\n",
       "2       2\n",
       "3       5\n",
       "4       6\n",
       "5      14\n",
       "6      16\n",
       "14     22\n",
       "7      31\n",
       "8      68\n",
       "9     134\n",
       "13    209\n",
       "11    348\n",
       "10    353\n",
       "12    404\n",
       "Name: rating_numerator, dtype: int64"
      ]
     },
     "execution_count": 74,
     "metadata": {},
     "output_type": "execute_result"
    }
   ],
   "source": [
    "twitter.rating_numerator.value_counts().sort_values()"
   ]
  },
  {
   "cell_type": "markdown",
   "id": "42da0c55",
   "metadata": {},
   "source": [
    "For the numerator i will clean the remaining extreame values which happen to be greater than 15. i'll display the text to see if they are wrongly captured."
   ]
  },
  {
   "cell_type": "code",
   "execution_count": 75,
   "id": "73c4e547",
   "metadata": {},
   "outputs": [
    {
     "data": {
      "text/html": [
       "<div>\n",
       "<style scoped>\n",
       "    .dataframe tbody tr th:only-of-type {\n",
       "        vertical-align: middle;\n",
       "    }\n",
       "\n",
       "    .dataframe tbody tr th {\n",
       "        vertical-align: top;\n",
       "    }\n",
       "\n",
       "    .dataframe thead th {\n",
       "        text-align: right;\n",
       "    }\n",
       "</style>\n",
       "<table border=\"1\" class=\"dataframe\">\n",
       "  <thead>\n",
       "    <tr style=\"text-align: right;\">\n",
       "      <th></th>\n",
       "      <th>tweet_id</th>\n",
       "      <th>text</th>\n",
       "      <th>rating_numerator</th>\n",
       "      <th>rating_denominator</th>\n",
       "    </tr>\n",
       "  </thead>\n",
       "  <tbody>\n",
       "    <tr>\n",
       "      <th>558</th>\n",
       "      <td>786709082849828864</td>\n",
       "      <td>This is Logan, the Chow who lived. He solemnly swears he's up to lots of good. H*ckin magical af 9.75/10</td>\n",
       "      <td>75</td>\n",
       "      <td>10</td>\n",
       "    </tr>\n",
       "    <tr>\n",
       "      <th>617</th>\n",
       "      <td>778027034220126208</td>\n",
       "      <td>This is Sophie. She's a Jubilant Bush Pupper. Super h*ckin rare. Appears at random just to smile at the locals. 11.27/10 would smile back</td>\n",
       "      <td>27</td>\n",
       "      <td>10</td>\n",
       "    </tr>\n",
       "    <tr>\n",
       "      <th>1533</th>\n",
       "      <td>680494726643068929</td>\n",
       "      <td>Here we have uncovered an entire battalion of holiday puppers. Average of 11.26/10</td>\n",
       "      <td>26</td>\n",
       "      <td>10</td>\n",
       "    </tr>\n",
       "  </tbody>\n",
       "</table>\n",
       "</div>"
      ],
      "text/plain": [
       "                tweet_id  \\\n",
       "558   786709082849828864   \n",
       "617   778027034220126208   \n",
       "1533  680494726643068929   \n",
       "\n",
       "                                                                                                                                            text  \\\n",
       "558                                    This is Logan, the Chow who lived. He solemnly swears he's up to lots of good. H*ckin magical af 9.75/10    \n",
       "617   This is Sophie. She's a Jubilant Bush Pupper. Super h*ckin rare. Appears at random just to smile at the locals. 11.27/10 would smile back    \n",
       "1533                                                         Here we have uncovered an entire battalion of holiday puppers. Average of 11.26/10    \n",
       "\n",
       "      rating_numerator  rating_denominator  \n",
       "558                 75                  10  \n",
       "617                 27                  10  \n",
       "1533                26                  10  "
      ]
     },
     "execution_count": 75,
     "metadata": {},
     "output_type": "execute_result"
    }
   ],
   "source": [
    "pd.options.display.max_colwidth = 1000\n",
    "trial2 = twitter.query('rating_numerator >= 15')\n",
    "trial2[['tweet_id','text','rating_numerator','rating_denominator']]"
   ]
  },
  {
   "cell_type": "markdown",
   "id": "1c6af960",
   "metadata": {},
   "source": [
    "    index 558, 617, 1533 are wrongly captured. \n",
    "    \n",
    "    The above indexes correct numerators are in decimal, i'll check for all tweets with decimals in numerators\n",
    "    and rectify all at once then round up to a whole number."
   ]
  },
  {
   "cell_type": "code",
   "execution_count": 76,
   "id": "d92409fe",
   "metadata": {},
   "outputs": [
    {
     "name": "stdout",
     "output_type": "stream",
     "text": [
      "[[883482846933004288 5\n",
      "  'This is Bella. She hopes her smile made you smile. If not, she is also offering you her favorite monkey. 13.5/10 ']\n",
      " [786709082849828864 75\n",
      "  \"This is Logan, the Chow who lived. He solemnly swears he's up to lots of good. H*ckin magical af 9.75/10 \"]\n",
      " [778027034220126208 27\n",
      "  \"This is Sophie. She's a Jubilant Bush Pupper. Super h*ckin rare. Appears at random just to smile at the locals. 11.27/10 would smile back \"]\n",
      " [680494726643068929 26\n",
      "  'Here we have uncovered an entire battalion of holiday puppers. Average of 11.26/10 ']]\n"
     ]
    },
    {
     "name": "stderr",
     "output_type": "stream",
     "text": [
      "C:\\Users\\Gladys\\AppData\\Local\\Temp\\ipykernel_11924\\3253884297.py:3: UserWarning: This pattern is interpreted as a regular expression, and has match groups. To actually get the groups, use str.extract.\n",
      "  decimal = twitter[twitter['text'].str.contains(r\"(\\d+\\.\\d*\\/\\d+)\")]\n"
     ]
    }
   ],
   "source": [
    "#Checking for decimals in the text to see if they match with the rating numerator\n",
    "\n",
    "decimal = twitter[twitter['text'].str.contains(r\"(\\d+\\.\\d*\\/\\d+)\")]\n",
    "print(decimal[['tweet_id', 'rating_numerator', 'text']].values)"
   ]
  },
  {
   "cell_type": "code",
   "execution_count": 77,
   "id": "fd8e8a77",
   "metadata": {},
   "outputs": [],
   "source": [
    "#Adjusting the rating_numerators\n",
    "twitter.loc[twitter.tweet_id == 786709082849828864, ['rating_numerator']] = 9.75\n",
    "twitter.loc[twitter.tweet_id == 778027034220126208, ['rating_numerator']] = 11.27\n",
    "twitter.loc[twitter.tweet_id == 680494726643068929, ['rating_numerator']] = 11.26\n",
    "twitter.loc[twitter.tweet_id == 883482846933004288, ['rating_numerator']] = 13.50"
   ]
  },
  {
   "cell_type": "code",
   "execution_count": 78,
   "id": "7dc27abb",
   "metadata": {},
   "outputs": [],
   "source": [
    "#Round up to the nearest whole number\n",
    "\n",
    "twitter.rating_numerator = twitter.rating_numerator.apply(np.ceil)"
   ]
  },
  {
   "cell_type": "markdown",
   "id": "468b4873",
   "metadata": {},
   "source": [
    "#### TEST"
   ]
  },
  {
   "cell_type": "code",
   "execution_count": 79,
   "id": "ad7725f0",
   "metadata": {},
   "outputs": [
    {
     "name": "stdout",
     "output_type": "stream",
     "text": [
      "[[883482846933004288 14.0\n",
      "  'This is Bella. She hopes her smile made you smile. If not, she is also offering you her favorite monkey. 13.5/10 ']\n",
      " [786709082849828864 10.0\n",
      "  \"This is Logan, the Chow who lived. He solemnly swears he's up to lots of good. H*ckin magical af 9.75/10 \"]\n",
      " [778027034220126208 12.0\n",
      "  \"This is Sophie. She's a Jubilant Bush Pupper. Super h*ckin rare. Appears at random just to smile at the locals. 11.27/10 would smile back \"]\n",
      " [680494726643068929 12.0\n",
      "  'Here we have uncovered an entire battalion of holiday puppers. Average of 11.26/10 ']]\n"
     ]
    },
    {
     "name": "stderr",
     "output_type": "stream",
     "text": [
      "C:\\Users\\Gladys\\AppData\\Local\\Temp\\ipykernel_11924\\2160678690.py:1: UserWarning: This pattern is interpreted as a regular expression, and has match groups. To actually get the groups, use str.extract.\n",
      "  decimal = twitter[twitter['text'].str.contains(r\"(\\d+\\.\\d*\\/\\d+)\")]\n"
     ]
    }
   ],
   "source": [
    "decimal = twitter[twitter['text'].str.contains(r\"(\\d+\\.\\d*\\/\\d+)\")]\n",
    "print(decimal[['tweet_id', 'rating_numerator', 'text']].values)"
   ]
  },
  {
   "cell_type": "code",
   "execution_count": 80,
   "id": "feba090f",
   "metadata": {},
   "outputs": [
    {
     "data": {
      "text/plain": [
       "0.0       1\n",
       "2.0       2\n",
       "3.0       5\n",
       "4.0       6\n",
       "5.0      13\n",
       "6.0      16\n",
       "14.0     23\n",
       "7.0      31\n",
       "8.0      68\n",
       "9.0     134\n",
       "13.0    209\n",
       "11.0    348\n",
       "10.0    354\n",
       "12.0    406\n",
       "Name: rating_numerator, dtype: int64"
      ]
     },
     "execution_count": 80,
     "metadata": {},
     "output_type": "execute_result"
    }
   ],
   "source": [
    "twitter.rating_numerator.value_counts().sort_values()"
   ]
  },
  {
   "cell_type": "markdown",
   "id": "7d010d08",
   "metadata": {},
   "source": [
    "#### DEFINE:\n",
    "Add new 'rating' column by dividing rating_numerator by rating_denominator"
   ]
  },
  {
   "cell_type": "markdown",
   "id": "e3b9bc86",
   "metadata": {},
   "source": [
    "#### CODE"
   ]
  },
  {
   "cell_type": "code",
   "execution_count": 81,
   "id": "fd7c4c76",
   "metadata": {
    "scrolled": true
   },
   "outputs": [],
   "source": [
    "# Adding rating column\n",
    "twitter['rating'] = twitter['rating_numerator'] / twitter['rating_denominator']\n"
   ]
  },
  {
   "cell_type": "markdown",
   "id": "23e0257b",
   "metadata": {},
   "source": [
    "#### TEST"
   ]
  },
  {
   "cell_type": "code",
   "execution_count": 82,
   "id": "8d7a7897",
   "metadata": {},
   "outputs": [
    {
     "data": {
      "text/plain": [
       "1       1.3\n",
       "2       1.2\n",
       "3       1.3\n",
       "4       1.2\n",
       "5       1.3\n",
       "       ... \n",
       "2170    0.5\n",
       "2171    0.6\n",
       "2172    0.9\n",
       "2173    0.7\n",
       "2174    0.8\n",
       "Name: rating, Length: 1616, dtype: float64"
      ]
     },
     "execution_count": 82,
     "metadata": {},
     "output_type": "execute_result"
    }
   ],
   "source": [
    "twitter['rating']"
   ]
  },
  {
   "cell_type": "markdown",
   "id": "82dedf85",
   "metadata": {},
   "source": [
    "#### DEFINE\n",
    "Drop the rating numerator and rating denominator columns"
   ]
  },
  {
   "cell_type": "markdown",
   "id": "3420eb71",
   "metadata": {},
   "source": [
    "#### CODE"
   ]
  },
  {
   "cell_type": "code",
   "execution_count": 83,
   "id": "3d9f6cb7",
   "metadata": {},
   "outputs": [],
   "source": [
    "twitter = twitter.drop(columns=['rating_numerator', 'rating_denominator'], axis=1)"
   ]
  },
  {
   "cell_type": "markdown",
   "id": "3c66ce77",
   "metadata": {},
   "source": [
    "#### TEST"
   ]
  },
  {
   "cell_type": "code",
   "execution_count": 84,
   "id": "86a552b2",
   "metadata": {
    "scrolled": false
   },
   "outputs": [
    {
     "name": "stdout",
     "output_type": "stream",
     "text": [
      "<class 'pandas.core.frame.DataFrame'>\n",
      "Int64Index: 1616 entries, 1 to 2174\n",
      "Data columns (total 13 columns):\n",
      " #   Column            Non-Null Count  Dtype  \n",
      "---  ------            --------------  -----  \n",
      " 0   tweet_id          1616 non-null   int64  \n",
      " 1   text              1616 non-null   object \n",
      " 2   name              1616 non-null   object \n",
      " 3   dog_stages        251 non-null    object \n",
      " 4   jpg_url           1616 non-null   object \n",
      " 5   dog_breed         1616 non-null   object \n",
      " 6   confidence_level  1616 non-null   object \n",
      " 7   retweet_count     1616 non-null   float64\n",
      " 8   favorite_count    1616 non-null   float64\n",
      " 9   year              1616 non-null   int64  \n",
      " 10  month             1616 non-null   int64  \n",
      " 11  day               1616 non-null   int64  \n",
      " 12  rating            1616 non-null   float64\n",
      "dtypes: float64(3), int64(4), object(6)\n",
      "memory usage: 176.8+ KB\n"
     ]
    }
   ],
   "source": [
    "twitter.info()"
   ]
  },
  {
   "cell_type": "markdown",
   "id": "3f465659",
   "metadata": {},
   "source": [
    "### DATA STORAGE"
   ]
  },
  {
   "cell_type": "code",
   "execution_count": 85,
   "id": "7547d0f4",
   "metadata": {},
   "outputs": [],
   "source": [
    "twitter.to_csv('twitter_archive_master.csv', index=False)"
   ]
  },
  {
   "cell_type": "markdown",
   "id": "d0c4d96f",
   "metadata": {},
   "source": [
    "## DATA ANALYSIS AND VISUALIZATION"
   ]
  },
  {
   "cell_type": "markdown",
   "id": "4b48971b",
   "metadata": {},
   "source": [
    "The questions that will lead the analysis are;\n",
    "\n",
    "    1. Which is the most owned breed?\n",
    "    2. Is the most owned breed also the most favorited or retweeted breed?\n",
    "    3. Is there a correlation between rating vs retweet counts? Retweet count vs favorite counts?\n",
    "    4. What is the common dog stage?\n",
    "    5. Is the most common stage also the highest rated?\n",
    "    "
   ]
  },
  {
   "cell_type": "code",
   "execution_count": 86,
   "id": "1ed41147",
   "metadata": {},
   "outputs": [],
   "source": [
    "twitter = pd.read_csv('twitter_archive_master.csv')"
   ]
  },
  {
   "cell_type": "markdown",
   "id": "c4c5873f",
   "metadata": {},
   "source": [
    "#### Q1. Which is the most owned breed?"
   ]
  },
  {
   "cell_type": "code",
   "execution_count": 87,
   "id": "f020a213",
   "metadata": {
    "scrolled": false
   },
   "outputs": [
    {
     "data": {
      "image/png": "[encoded data removed]",
      "text/plain": [
       "<Figure size 600x400 with 1 Axes>"
      ]
     },
     "metadata": {},
     "output_type": "display_data"
    }
   ],
   "source": [
    "twitter['dog_breed'].value_counts()[:10].sort_values(ascending=True).plot(kind='bar', \n",
    "                                                                           figsize=(6,4),\n",
    "                                                                           title='Top 10 Owned Breeds',\n",
    "                                                                           color='red',\n",
    "                                                                           xlabel='Dog Breeds',\n",
    "                                                                           ylabel='Count');\n"
   ]
  },
  {
   "cell_type": "markdown",
   "id": "1c0bfbce",
   "metadata": {},
   "source": [
    "**Insight:**\n",
    "\n",
    "        Golden retriever is the most owned breed"
   ]
  },
  {
   "cell_type": "markdown",
   "id": "353a980d",
   "metadata": {},
   "source": [
    "#### Q2. Is the Golden retriever also the most favorited or retweeted dog breed?\n",
    "#### DEFINE:\n",
    " \n",
    "     This function takes in four parameters:\n",
    "\n",
    "    twitter: DataFrame containing the twitter data\n",
    "    num_breeds: Number of top dog breeds for which to plot the data\n",
    "    column: Name of the column to plot\n",
    "    plot_type: type of plot to create (default is 'bar', other options include 'line', 'area' etc)\n",
    "    ascending: sort the diagram in ascending order or descending order (default is descending)\n",
    "\n",
    "    It first extracts the top num_breeds dog breeds from the 'dog_breed' column, filters the dataframe to include only those\n",
    "    breeds, then group the dataframe by the dog_breed column, calculate the mean of the provided column, then sort the \n",
    "    diagram based on the ascending parameter and finally it will plot the diagram based on the plot_type provided."
   ]
  },
  {
   "cell_type": "markdown",
   "id": "c0eb546b",
   "metadata": {},
   "source": [
    "#### CODE"
   ]
  },
  {
   "cell_type": "code",
   "execution_count": 88,
   "id": "231cf406",
   "metadata": {},
   "outputs": [],
   "source": [
    "def plot_top_breeds(twitter, num_breeds, column, plot_type='bar', ascending=False):\n",
    "    index = twitter['dog_breed'].value_counts().index.tolist()[0:num_breeds]\n",
    "    filtered = twitter[twitter['dog_breed'].isin(index)]\n",
    "    diagram = filtered.groupby(['dog_breed'])[column].mean()\n",
    "    print(diagram.sort_values(ascending=ascending))\n",
    "    if plot_type == 'bar':\n",
    "        diagram.plot.bar(figsize=(6,4))\n",
    "    else:\n",
    "        diagram.plot(kind=plot_type, figsize=(6,4))"
   ]
  },
  {
   "cell_type": "markdown",
   "id": "637e04ab",
   "metadata": {},
   "source": [
    "#### TEST"
   ]
  },
  {
   "cell_type": "code",
   "execution_count": 89,
   "id": "0211bc48",
   "metadata": {
    "scrolled": false
   },
   "outputs": [
    {
     "name": "stdout",
     "output_type": "stream",
     "text": [
      "dog_breed\n",
      "Samoyed               3187.702703\n",
      "Golden_retriever      2640.894366\n",
      "Labrador_retriever    2604.727273\n",
      "Malamute              2595.312500\n",
      "Pembroke              2310.053191\n",
      "Pomeranian            2136.500000\n",
      "Chow                  2092.422222\n",
      "Toy_poodle            1743.979592\n",
      "Chihuahua             1550.413793\n",
      "Pug                   1366.800000\n",
      "Name: retweet_count, dtype: float64\n"
     ]
    },
    {
     "data": {
      "text/plain": [
       "Text(0.5, 1.0, 'Dog Breeds and their Retweet Counts')"
      ]
     },
     "execution_count": 89,
     "metadata": {},
     "output_type": "execute_result"
    },
    {
     "data": {
      "image/png": "[encoded data removed]",
      "text/plain": [
       "<Figure size 600x400 with 1 Axes>"
      ]
     },
     "metadata": {},
     "output_type": "display_data"
    }
   ],
   "source": [
    "plot_top_breeds(twitter, 10, 'retweet_count')\n",
    "plt.xlabel('Dog Breeds')\n",
    "plt.ylabel('Retweet Count')\n",
    "plt.title('Dog Breeds and their Retweet Counts')"
   ]
  },
  {
   "cell_type": "code",
   "execution_count": 90,
   "id": "29bfb4a1",
   "metadata": {
    "scrolled": false
   },
   "outputs": [
    {
     "name": "stdout",
     "output_type": "stream",
     "text": [
      "dog_breed\n",
      "Samoyed               10194.675676\n",
      "Golden_retriever       9621.887324\n",
      "Malamute               8900.625000\n",
      "Labrador_retriever     8751.989899\n",
      "Pembroke               8733.648936\n",
      "Chow                   7731.800000\n",
      "Pomeranian             6414.833333\n",
      "Chihuahua              5576.045977\n",
      "Toy_poodle             5368.693878\n",
      "Pug                    4811.783333\n",
      "Name: favorite_count, dtype: float64\n"
     ]
    },
    {
     "data": {
      "text/plain": [
       "Text(0.5, 1.0, 'Dog Breeds and their Favorite Counts')"
      ]
     },
     "execution_count": 90,
     "metadata": {},
     "output_type": "execute_result"
    },
    {
     "data": {
      "image/png": "[encoded data removed]",
      "text/plain": [
       "<Figure size 600x400 with 1 Axes>"
      ]
     },
     "metadata": {},
     "output_type": "display_data"
    }
   ],
   "source": [
    "plot_top_breeds(twitter, 10, 'favorite_count')\n",
    "plt.xlabel('Dog Breeds')\n",
    "plt.ylabel('Favorite Count')\n",
    "plt.title('Dog Breeds and their Favorite Counts')"
   ]
  },
  {
   "cell_type": "markdown",
   "id": "40339384",
   "metadata": {},
   "source": [
    "**Insight:**\n",
    "\n",
    "    Although the Golden retriever is the most owned, Samoyed breed seems to be the most liked and retweeted dog breed."
   ]
  },
  {
   "cell_type": "markdown",
   "id": "5c2f372f",
   "metadata": {},
   "source": [
    "#### Q3. Is there a correlation between rating vs retweet counts? Retweet count vs favorite counts?\n",
    "#### DEFINE:\n",
    "\n",
    "    This function takes in four parameters:\n",
    "\n",
    "    twitter: DataFrame containing the twitter data\n",
    "    x_column: The name of the column to be plotted on the x-axis\n",
    "    y_column: The name of the column to be plotted on the y-axis\n",
    "    title: The title of the scatter plot\n",
    "    \n",
    "    It will create a scatter plot of twitter DataFrame with x_column on the x-axis and y_column on the y-axis. \n",
    "    It will also set the x-axis label, y-axis label and the title of the plot as passed in the parameters."
   ]
  },
  {
   "cell_type": "markdown",
   "id": "89a97a6e",
   "metadata": {},
   "source": [
    "#### CODE"
   ]
  },
  {
   "cell_type": "code",
   "execution_count": 91,
   "id": "67c69deb",
   "metadata": {},
   "outputs": [],
   "source": [
    "def plot_scatter(twitter, x_column, y_column, title):\n",
    "    twitter.plot(x=x_column, y=y_column, kind='scatter')\n",
    "    plt.xlabel(x_column)\n",
    "    plt.ylabel(y_column)\n",
    "    plt.title(title)"
   ]
  },
  {
   "cell_type": "markdown",
   "id": "2147c5fd",
   "metadata": {},
   "source": [
    "#### TEST"
   ]
  },
  {
   "cell_type": "code",
   "execution_count": 92,
   "id": "503ef498",
   "metadata": {},
   "outputs": [
    {
     "data": {
      "image/png": "[encoded data removed]",
      "text/plain": [
       "<Figure size 640x480 with 1 Axes>"
      ]
     },
     "metadata": {},
     "output_type": "display_data"
    }
   ],
   "source": [
    "plot_scatter(twitter,'favorite_count','retweet_count','Retweets Vs favorites Scatter Plot')"
   ]
  },
  {
   "cell_type": "markdown",
   "id": "8f642152",
   "metadata": {},
   "source": [
    "**Insight:**\n",
    "\n",
    "    Favourite Counts and Retweet counts have a positive correlation. This was also seen in the dog breed vs (favourite\n",
    "    count/retweet count) assesment as the most favourited breed was also the most retweeted breed"
   ]
  },
  {
   "cell_type": "code",
   "execution_count": 93,
   "id": "9f789fb6",
   "metadata": {
    "scrolled": false
   },
   "outputs": [
    {
     "data": {
      "image/png": "[encoded data removed]",
      "text/plain": [
       "<Figure size 640x480 with 1 Axes>"
      ]
     },
     "metadata": {},
     "output_type": "display_data"
    }
   ],
   "source": [
    "plot_scatter(twitter,'retweet_count','rating','Retweet Counts vs Ratings Scatter Plot')"
   ]
  },
  {
   "cell_type": "markdown",
   "id": "94f025c0",
   "metadata": {},
   "source": [
    "**Insight:**\n",
    "\n",
    "    The highest ratings do not receive the most retweets."
   ]
  },
  {
   "cell_type": "markdown",
   "id": "bc4106d0",
   "metadata": {},
   "source": [
    "#### Q4. What is the common dog stage?"
   ]
  },
  {
   "cell_type": "code",
   "execution_count": 94,
   "id": "b7393257",
   "metadata": {},
   "outputs": [
    {
     "data": {
      "text/plain": [
       "pupper          165\n",
       "doggo            51\n",
       "puppo            20\n",
       "floofer           7\n",
       "doggopupper       6\n",
       "doggopuppo        1\n",
       "doggofloofer      1\n",
       "Name: dog_stages, dtype: int64"
      ]
     },
     "execution_count": 94,
     "metadata": {},
     "output_type": "execute_result"
    }
   ],
   "source": [
    "twitter['dog_stages'].value_counts()"
   ]
  },
  {
   "cell_type": "markdown",
   "id": "d2048c94",
   "metadata": {},
   "source": [
    "**Insight:**\n",
    "\n",
    "    pupper is the most common dog stage."
   ]
  },
  {
   "cell_type": "markdown",
   "id": "740500ba",
   "metadata": {},
   "source": [
    "#### Q5. Is the most common stage also the highest rated?"
   ]
  },
  {
   "cell_type": "code",
   "execution_count": 95,
   "id": "6aa9ed13",
   "metadata": {},
   "outputs": [
    {
     "name": "stdout",
     "output_type": "stream",
     "text": [
      "dog_stages\n",
      "floofer    1.200000\n",
      "puppo      1.195000\n",
      "doggo      1.186275\n",
      "pupper     1.084242\n",
      "Name: rating, dtype: float64\n"
     ]
    },
    {
     "data": {
      "text/plain": [
       "Text(0.5, 1.0, 'Dog Stages Average Rating')"
      ]
     },
     "execution_count": 95,
     "metadata": {},
     "output_type": "execute_result"
    },
    {
     "data": {
      "image/png": "[encoded data removed]",
      "text/plain": [
       "<Figure size 600x400 with 1 Axes>"
      ]
     },
     "metadata": {},
     "output_type": "display_data"
    }
   ],
   "source": [
    "index2 = twitter['dog_stages'].value_counts().index.tolist()[0:4]\n",
    "filtered2 = twitter[twitter['dog_stages'].isin(index2)]\n",
    "diagram2 = filtered2.groupby(['dog_stages'])['rating'].mean()\n",
    "print(diagram2.sort_values(ascending=False))\n",
    "diagram2.plot.bar(figsize=(6,4))\n",
    "plt.xlabel('Dog Stages')\n",
    "plt.ylabel('Average Rating')\n",
    "plt.title('Dog Stages Average Rating')\n"
   ]
  },
  {
   "cell_type": "markdown",
   "id": "6c4fc732",
   "metadata": {},
   "source": [
    "**Insight:**\n",
    "\n",
    "    Floofer is the highest rated dog stage and Pupper being the most common dog stage is the least rated"
   ]
  },
  {
   "cell_type": "code",
   "execution_count": null,
   "id": "d22f177f",
   "metadata": {},
   "outputs": [],
   "source": []
  }
 ],
 "metadata": {
  "kernelspec": {
   "display_name": "Python 3 (ipykernel)",
   "language": "python",
   "name": "python3"
  },
  "language_info": {
   "codemirror_mode": {
    "name": "ipython",
    "version": 3
   },
   "file_extension": ".py",
   "mimetype": "text/x-python",
   "name": "python",
   "nbconvert_exporter": "python",
   "pygments_lexer": "ipython3",
   "version": "3.9.15"
  },
  "vscode": {
   "interpreter": {
    "hash": "9037c13d65a6996049e747048a43df2a2dd7d80c065c211347b0867a231db6f4"
   }
  }
 },
 "nbformat": 4,
 "nbformat_minor": 5
}
